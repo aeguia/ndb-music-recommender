{
 "cells": [
  {
   "cell_type": "markdown",
   "metadata": {},
   "source": [
    "### Load Libraries"
   ]
  },
  {
   "cell_type": "code",
   "execution_count": 1,
   "metadata": {},
   "outputs": [],
   "source": [
    "import random\n",
    "import os\n",
    "import numpy as np\n",
    "import pandas as pd\n",
    "pd.options.display.max_rows = 10\n",
    "\n",
    "import scipy.sparse as sp"
   ]
  },
  {
   "cell_type": "code",
   "execution_count": 2,
   "metadata": {},
   "outputs": [],
   "source": [
    "from utilities import utils"
   ]
  },
  {
   "cell_type": "code",
   "execution_count": 3,
   "metadata": {},
   "outputs": [],
   "source": [
    "from model import model_knn"
   ]
  },
  {
   "cell_type": "markdown",
   "metadata": {},
   "source": [
    "### Read Data"
   ]
  },
  {
   "cell_type": "code",
   "execution_count": 4,
   "metadata": {},
   "outputs": [],
   "source": [
    "# Dataframe with tracks from NDB artists present in MPD dataset\n",
    "\n",
    "data_root = './data/'\n",
    "ndb_tracks_file = os.path.join(data_root, 'ndb_mpd_tracks.compress')"
   ]
  },
  {
   "cell_type": "code",
   "execution_count": 5,
   "metadata": {},
   "outputs": [],
   "source": [
    "ndb_tracks_df = pd.read_pickle(ndb_tracks_file, compression='gzip')"
   ]
  },
  {
   "cell_type": "code",
   "execution_count": 6,
   "metadata": {},
   "outputs": [
    {
     "data": {
      "text/plain": [
       "(15600, 18)"
      ]
     },
     "execution_count": 6,
     "metadata": {},
     "output_type": "execute_result"
    }
   ],
   "source": [
    "ndb_tracks_df.shape"
   ]
  },
  {
   "cell_type": "markdown",
   "metadata": {},
   "source": [
    "#### Total Number of NDB Artists present in MPD dataset"
   ]
  },
  {
   "cell_type": "code",
   "execution_count": 7,
   "metadata": {},
   "outputs": [],
   "source": [
    "columns = ['2016', '2017', '2018', '2019', '2021']\n",
    "ndb_mpd_editions = ndb_tracks_df.groupby('artist_name')[columns].first().isin([1]).sum()"
   ]
  },
  {
   "cell_type": "code",
   "execution_count": 8,
   "metadata": {},
   "outputs": [],
   "source": [
    "ndb_editions_df= pd.DataFrame({'Edition': ndb_mpd_editions.index, 'Total_artists': ndb_mpd_editions.values})"
   ]
  },
  {
   "cell_type": "code",
   "execution_count": 9,
   "metadata": {},
   "outputs": [
    {
     "data": {
      "text/html": [
       "<div>\n",
       "<style scoped>\n",
       "    .dataframe tbody tr th:only-of-type {\n",
       "        vertical-align: middle;\n",
       "    }\n",
       "\n",
       "    .dataframe tbody tr th {\n",
       "        vertical-align: top;\n",
       "    }\n",
       "\n",
       "    .dataframe thead th {\n",
       "        text-align: right;\n",
       "    }\n",
       "</style>\n",
       "<table border=\"1\" class=\"dataframe\">\n",
       "  <thead>\n",
       "    <tr style=\"text-align: right;\">\n",
       "      <th></th>\n",
       "      <th>Edition</th>\n",
       "      <th>Total_artists</th>\n",
       "    </tr>\n",
       "  </thead>\n",
       "  <tbody>\n",
       "    <tr>\n",
       "      <th>0</th>\n",
       "      <td>2016</td>\n",
       "      <td>35</td>\n",
       "    </tr>\n",
       "    <tr>\n",
       "      <th>1</th>\n",
       "      <td>2017</td>\n",
       "      <td>30</td>\n",
       "    </tr>\n",
       "    <tr>\n",
       "      <th>2</th>\n",
       "      <td>2018</td>\n",
       "      <td>37</td>\n",
       "    </tr>\n",
       "    <tr>\n",
       "      <th>3</th>\n",
       "      <td>2019</td>\n",
       "      <td>48</td>\n",
       "    </tr>\n",
       "    <tr>\n",
       "      <th>4</th>\n",
       "      <td>2021</td>\n",
       "      <td>47</td>\n",
       "    </tr>\n",
       "  </tbody>\n",
       "</table>\n",
       "</div>"
      ],
      "text/plain": [
       "  Edition  Total_artists\n",
       "0    2016             35\n",
       "1    2017             30\n",
       "2    2018             37\n",
       "3    2019             48\n",
       "4    2021             47"
      ]
     },
     "execution_count": 9,
     "metadata": {},
     "output_type": "execute_result"
    }
   ],
   "source": [
    "ndb_editions_df"
   ]
  },
  {
   "cell_type": "code",
   "execution_count": 10,
   "metadata": {},
   "outputs": [],
   "source": [
    "# Dataframe with tracks from NDB_MPD dataset\n",
    "\n",
    "tracks_df = pd.read_pickle('./data/tracks_ndb.compress', compression='gzip')"
   ]
  },
  {
   "cell_type": "code",
   "execution_count": 11,
   "metadata": {},
   "outputs": [],
   "source": [
    "track_title = tracks_df['track_name'].map(str) + \" - \" + tracks_df['artist_name']"
   ]
  },
  {
   "cell_type": "code",
   "execution_count": 12,
   "metadata": {},
   "outputs": [],
   "source": [
    "# Track titles Dictionary\n",
    "tracks_to_tidx = pd.Series(track_title.values, index=tracks_df.tid).to_dict()"
   ]
  },
  {
   "cell_type": "markdown",
   "metadata": {},
   "source": [
    "### Load kNN Model  \n",
    "\n",
    "Initialize kNN Model using complete __rating matrix MDP_NDB__, 25 neighbors, metric='cosine'  \n",
    "\n",
    "### Important !!!  \n",
    "First time model is run, make sure to set reTrain parameter to True so that the trained model using complete dataset MPD_NDB is saved.  \n",
    "  \n",
    "def __init__(self, model, n_neighbors, metric, sp_playlists, reTrain=False, data_root='./data' ,model_file='kNN.pkl')  \n",
    "\n",
    "_kNN_model = model_knn.nneighbors_model(name_kNN, n_neighbors, metric, sparse_matrix, __True__)_"
   ]
  },
  {
   "cell_type": "code",
   "execution_count": 13,
   "metadata": {},
   "outputs": [],
   "source": [
    "# Define knn input variables\n",
    "\n",
    "name_kNN = 'knn'\n",
    "n_neighbors = 25\n",
    "metric = 'cosine'\n",
    "sparse_matrix = sp.load_npz('./data/matrix_playlistTrackRating_ndb.npz')\n",
    "sp_len = sparse_matrix.shape[1]\n",
    "topk = 50"
   ]
  },
  {
   "cell_type": "code",
   "execution_count": 14,
   "metadata": {},
   "outputs": [],
   "source": [
    "# k Nearest Neighbors\n",
    "\n",
    "kNN_model = model_knn.nneighbors_model(name_kNN, n_neighbors, metric, sparse_matrix)"
   ]
  },
  {
   "cell_type": "markdown",
   "metadata": {},
   "source": [
    "#### Random edition year"
   ]
  },
  {
   "cell_type": "code",
   "execution_count": 15,
   "metadata": {},
   "outputs": [],
   "source": [
    "editions = [0, 2016, 2017, 2018, 2019, 2021]"
   ]
  },
  {
   "cell_type": "code",
   "execution_count": 33,
   "metadata": {},
   "outputs": [
    {
     "data": {
      "text/plain": [
       "2019"
      ]
     },
     "execution_count": 33,
     "metadata": {},
     "output_type": "execute_result"
    }
   ],
   "source": [
    "edition = random.choice(editions)\n",
    "edition"
   ]
  },
  {
   "cell_type": "markdown",
   "metadata": {},
   "source": [
    "### Generate input random playlist"
   ]
  },
  {
   "cell_type": "code",
   "execution_count": 34,
   "metadata": {},
   "outputs": [],
   "source": [
    "playlist = utils.GenerateRandomNDBPlaylist(ndb_tracks_df, edition)"
   ]
  },
  {
   "cell_type": "code",
   "execution_count": 35,
   "metadata": {},
   "outputs": [],
   "source": [
    "# Get titles from input Random Playlist tracks\n",
    "\n",
    "input_playlist = [[tracks_to_tidx[x], x] for x in playlist]"
   ]
  },
  {
   "cell_type": "code",
   "execution_count": 36,
   "metadata": {},
   "outputs": [],
   "source": [
    "df_input_playlist = pd.DataFrame.from_records(input_playlist, \n",
    "                                         columns=['title', 'tid'],\n",
    "                                         index=pd.RangeIndex(start=1, stop=len(input_playlist)+1, name='rank'))"
   ]
  },
  {
   "cell_type": "code",
   "execution_count": 37,
   "metadata": {},
   "outputs": [
    {
     "data": {
      "text/html": [
       "<div>\n",
       "<style scoped>\n",
       "    .dataframe tbody tr th:only-of-type {\n",
       "        vertical-align: middle;\n",
       "    }\n",
       "\n",
       "    .dataframe tbody tr th {\n",
       "        vertical-align: top;\n",
       "    }\n",
       "\n",
       "    .dataframe thead th {\n",
       "        text-align: right;\n",
       "    }\n",
       "</style>\n",
       "<table border=\"1\" class=\"dataframe\">\n",
       "  <thead>\n",
       "    <tr style=\"text-align: right;\">\n",
       "      <th></th>\n",
       "      <th>title</th>\n",
       "      <th>tid</th>\n",
       "    </tr>\n",
       "    <tr>\n",
       "      <th>rank</th>\n",
       "      <th></th>\n",
       "      <th></th>\n",
       "    </tr>\n",
       "  </thead>\n",
       "  <tbody>\n",
       "    <tr>\n",
       "      <th>1</th>\n",
       "      <td>537 C U B A - Orishas</td>\n",
       "      <td>171253</td>\n",
       "    </tr>\n",
       "    <tr>\n",
       "      <th>2</th>\n",
       "      <td>Lloré - Monsieur Periné</td>\n",
       "      <td>715715</td>\n",
       "    </tr>\n",
       "    <tr>\n",
       "      <th>3</th>\n",
       "      <td>7th Street - Twanguero</td>\n",
       "      <td>955474</td>\n",
       "    </tr>\n",
       "    <tr>\n",
       "      <th>4</th>\n",
       "      <td>I Want to Break Free - Russian Red</td>\n",
       "      <td>144954</td>\n",
       "    </tr>\n",
       "    <tr>\n",
       "      <th>5</th>\n",
       "      <td>Piensa en frio - Ivan Ferreiro</td>\n",
       "      <td>356571</td>\n",
       "    </tr>\n",
       "    <tr>\n",
       "      <th>...</th>\n",
       "      <td>...</td>\n",
       "      <td>...</td>\n",
       "    </tr>\n",
       "    <tr>\n",
       "      <th>44</th>\n",
       "      <td>L'eau À La Bouche - Live Au Palace 2009 - Jane...</td>\n",
       "      <td>932856</td>\n",
       "    </tr>\n",
       "    <tr>\n",
       "      <th>45</th>\n",
       "      <td>NW5 - Madness</td>\n",
       "      <td>1013225</td>\n",
       "    </tr>\n",
       "    <tr>\n",
       "      <th>46</th>\n",
       "      <td>Bedshaped - Steve Lamacq Live From Roundhouse ...</td>\n",
       "      <td>898658</td>\n",
       "    </tr>\n",
       "    <tr>\n",
       "      <th>47</th>\n",
       "      <td>Amanecer (Dawn) - Carlos Nuñez</td>\n",
       "      <td>605336</td>\n",
       "    </tr>\n",
       "    <tr>\n",
       "      <th>48</th>\n",
       "      <td>Int.noche - Zahara</td>\n",
       "      <td>812300</td>\n",
       "    </tr>\n",
       "  </tbody>\n",
       "</table>\n",
       "<p>48 rows × 2 columns</p>\n",
       "</div>"
      ],
      "text/plain": [
       "                                                  title      tid\n",
       "rank                                                            \n",
       "1                                 537 C U B A - Orishas   171253\n",
       "2                               Lloré - Monsieur Periné   715715\n",
       "3                                7th Street - Twanguero   955474\n",
       "4                    I Want to Break Free - Russian Red   144954\n",
       "5                        Piensa en frio - Ivan Ferreiro   356571\n",
       "...                                                 ...      ...\n",
       "44    L'eau À La Bouche - Live Au Palace 2009 - Jane...   932856\n",
       "45                                        NW5 - Madness  1013225\n",
       "46    Bedshaped - Steve Lamacq Live From Roundhouse ...   898658\n",
       "47                       Amanecer (Dawn) - Carlos Nuñez   605336\n",
       "48                                   Int.noche - Zahara   812300\n",
       "\n",
       "[48 rows x 2 columns]"
      ]
     },
     "execution_count": 37,
     "metadata": {},
     "output_type": "execute_result"
    }
   ],
   "source": [
    "df_input_playlist"
   ]
  },
  {
   "cell_type": "markdown",
   "metadata": {},
   "source": [
    "### Recommendations for Random Playlist"
   ]
  },
  {
   "cell_type": "code",
   "execution_count": 38,
   "metadata": {},
   "outputs": [],
   "source": [
    "sp_playlist = utils.BuildSparsePlaylist(playlist, sp_len)"
   ]
  },
  {
   "cell_type": "code",
   "execution_count": 39,
   "metadata": {},
   "outputs": [],
   "source": [
    "recommends_knn = kNN_model.predict_random(sp_playlist, topk, n_neighbors)"
   ]
  },
  {
   "cell_type": "code",
   "execution_count": 40,
   "metadata": {},
   "outputs": [],
   "source": [
    "# Get titles from Recommended tracks using k Nearest Neighbors Model\n",
    "\n",
    "recommends_knn_rank = [[tracks_to_tidx[x], x] for x in recommends_knn]"
   ]
  },
  {
   "cell_type": "code",
   "execution_count": 41,
   "metadata": {},
   "outputs": [],
   "source": [
    "df_knn_recs = pd.DataFrame.from_records(recommends_knn_rank, \n",
    "                                         columns=['title', 'tid'],\n",
    "                                         index=pd.RangeIndex(start=1, stop=len(recommends_knn)+1, name='rank'))"
   ]
  },
  {
   "cell_type": "code",
   "execution_count": 42,
   "metadata": {},
   "outputs": [
    {
     "data": {
      "text/html": [
       "<div>\n",
       "<style scoped>\n",
       "    .dataframe tbody tr th:only-of-type {\n",
       "        vertical-align: middle;\n",
       "    }\n",
       "\n",
       "    .dataframe tbody tr th {\n",
       "        vertical-align: top;\n",
       "    }\n",
       "\n",
       "    .dataframe thead th {\n",
       "        text-align: right;\n",
       "    }\n",
       "</style>\n",
       "<table border=\"1\" class=\"dataframe\">\n",
       "  <thead>\n",
       "    <tr style=\"text-align: right;\">\n",
       "      <th></th>\n",
       "      <th>title</th>\n",
       "      <th>tid</th>\n",
       "    </tr>\n",
       "    <tr>\n",
       "      <th>rank</th>\n",
       "      <th></th>\n",
       "      <th></th>\n",
       "    </tr>\n",
       "  </thead>\n",
       "  <tbody>\n",
       "    <tr>\n",
       "      <th>1</th>\n",
       "      <td>Diamonds On the Inside - Ben Harper</td>\n",
       "      <td>9546</td>\n",
       "    </tr>\n",
       "    <tr>\n",
       "      <th>2</th>\n",
       "      <td>Colors - Amos Lee</td>\n",
       "      <td>3607</td>\n",
       "    </tr>\n",
       "    <tr>\n",
       "      <th>3</th>\n",
       "      <td>Winter - Joshua Radin</td>\n",
       "      <td>3701</td>\n",
       "    </tr>\n",
       "    <tr>\n",
       "      <th>4</th>\n",
       "      <td>I'd Rather Be With You [Radio Edit] - Joshua R...</td>\n",
       "      <td>7703</td>\n",
       "    </tr>\n",
       "    <tr>\n",
       "      <th>5</th>\n",
       "      <td>World Spins Madly On - The Weepies</td>\n",
       "      <td>7719</td>\n",
       "    </tr>\n",
       "    <tr>\n",
       "      <th>...</th>\n",
       "      <td>...</td>\n",
       "      <td>...</td>\n",
       "    </tr>\n",
       "    <tr>\n",
       "      <th>46</th>\n",
       "      <td>A Little Less Conversation - JXL Radio Edit Re...</td>\n",
       "      <td>4703</td>\n",
       "    </tr>\n",
       "    <tr>\n",
       "      <th>47</th>\n",
       "      <td>I Know You Want Me (Calle Ocho) - Pitbull</td>\n",
       "      <td>12900</td>\n",
       "    </tr>\n",
       "    <tr>\n",
       "      <th>48</th>\n",
       "      <td>Get Free - The Vines</td>\n",
       "      <td>13236</td>\n",
       "    </tr>\n",
       "    <tr>\n",
       "      <th>49</th>\n",
       "      <td>Kill Of The Night - Gin Wigmore</td>\n",
       "      <td>20414</td>\n",
       "    </tr>\n",
       "    <tr>\n",
       "      <th>50</th>\n",
       "      <td>Sound Of Madness - Shinedown</td>\n",
       "      <td>28396</td>\n",
       "    </tr>\n",
       "  </tbody>\n",
       "</table>\n",
       "<p>50 rows × 2 columns</p>\n",
       "</div>"
      ],
      "text/plain": [
       "                                                  title    tid\n",
       "rank                                                          \n",
       "1                   Diamonds On the Inside - Ben Harper   9546\n",
       "2                                     Colors - Amos Lee   3607\n",
       "3                                 Winter - Joshua Radin   3701\n",
       "4     I'd Rather Be With You [Radio Edit] - Joshua R...   7703\n",
       "5                    World Spins Madly On - The Weepies   7719\n",
       "...                                                 ...    ...\n",
       "46    A Little Less Conversation - JXL Radio Edit Re...   4703\n",
       "47            I Know You Want Me (Calle Ocho) - Pitbull  12900\n",
       "48                                 Get Free - The Vines  13236\n",
       "49                      Kill Of The Night - Gin Wigmore  20414\n",
       "50                         Sound Of Madness - Shinedown  28396\n",
       "\n",
       "[50 rows x 2 columns]"
      ]
     },
     "execution_count": 42,
     "metadata": {},
     "output_type": "execute_result"
    }
   ],
   "source": [
    "df_knn_recs"
   ]
  },
  {
   "cell_type": "code",
   "execution_count": 43,
   "metadata": {},
   "outputs": [],
   "source": [
    "def GetRandomNDBPlaylistTrackSPIDs(tracksIDs, tracksDict):\n",
    "    \"\"\"\n",
    "    Return a ramdom playlist of track SPIDs\n",
    "    :param tracksIDs: list of track IDs\n",
    "    :param tracksDict: tracks map from ID to SPID   \n",
    "    \"\"\"     \n",
    "    tracks_spIDs = [tracksDict[x] for x in tracksIDs]\n",
    "    return tracks_spIDs"
   ]
  },
  {
   "cell_type": "code",
   "execution_count": 44,
   "metadata": {},
   "outputs": [],
   "source": [
    "# Track tid-spid Dictionary\n",
    "tracks_to_spidx = pd.Series(tracks_df.spid, index=tracks_df.tid).to_dict()"
   ]
  },
  {
   "cell_type": "code",
   "execution_count": 45,
   "metadata": {},
   "outputs": [],
   "source": [
    "recommendedTracks_SPIDs = GetRandomNDBPlaylistTrackSPIDs(recommends_knn, tracks_to_spidx)"
   ]
  },
  {
   "cell_type": "markdown",
   "metadata": {},
   "source": [
    "### Spotify Request Authorization - user authorization  \n",
    "\n",
    "* Recommended tracks Playlist will be save rewritting spotify user´s playlist named - NDB_Recommends  \n",
    "* Reading Spotify web API credentials from settings.env hidden file"
   ]
  },
  {
   "cell_type": "code",
   "execution_count": 30,
   "metadata": {},
   "outputs": [],
   "source": [
    "import json\n",
    "import spotipy\n",
    "import spotipy.util as util\n",
    "from spotipy.oauth2 import SpotifyClientCredentials"
   ]
  },
  {
   "cell_type": "code",
   "execution_count": 31,
   "metadata": {},
   "outputs": [],
   "source": [
    "# Reading Spotify web API credentials from settings.env hidden file\n",
    "settings_root = \"./settings/\"\n",
    "settingsfile = os.path.join(settings_root, \"settings.env\")\n",
    "with open(settingsfile) as f:\n",
    "    env_vars = json.loads(f.read())\n",
    "\n",
    "# Authorization flow\n",
    "\n",
    "client_id = env_vars['SPOTIPY_CLIENT_ID']\n",
    "client_secret = env_vars['SPOTIPY_CLIENT_SECRET']\n",
    "redirect_uri = env_vars['SPOTIPY_REDIRECT_URI']\n",
    "username = env_vars['SPOTIPY_USER']\n",
    "playlistID = env_vars['PLAYLIST_ID']\n",
    "scope = 'playlist-read-private playlist-modify-public'\n",
    "\n",
    "token = util.prompt_for_user_token(username, scope, client_id, client_secret, redirect_uri)\n",
    "\n",
    "if token:\n",
    "    sp = spotipy.Spotify(auth=token)\n",
    "else:\n",
    "    print(\"Can't get token for\", username) "
   ]
  },
  {
   "cell_type": "code",
   "execution_count": 32,
   "metadata": {},
   "outputs": [],
   "source": [
    "def GetPlaylistID(username, playlist_name):\n",
    "    \"\"\"\n",
    "    Return Spotify ID of input playlist name\n",
    "    :param username: Spotify username\n",
    "    :param playlist_name: name of the playlist   \n",
    "    \"\"\"     \n",
    "    playlist_id = ''\n",
    "    playlists = sp.user_playlists(username)\n",
    "    for playlist in playlists['items']:  \n",
    "        if playlist['name'] == playlist_name:\n",
    "            playlist_id = playlist['id']\n",
    "    return playlist_id"
   ]
  },
  {
   "cell_type": "code",
   "execution_count": 33,
   "metadata": {},
   "outputs": [],
   "source": [
    "playlistID = GetPlaylistID(username, 'NDB_Recommends')"
   ]
  },
  {
   "cell_type": "code",
   "execution_count": 34,
   "metadata": {},
   "outputs": [
    {
     "data": {
      "text/plain": [
       "'5kh3mdIxqKQqmRRtULXftI'"
      ]
     },
     "execution_count": 34,
     "metadata": {},
     "output_type": "execute_result"
    }
   ],
   "source": [
    "# playlistID added to settings.env, environment variable PLAYLIST_ID\n",
    "\n",
    "playlistID"
   ]
  },
  {
   "cell_type": "markdown",
   "metadata": {},
   "source": [
    "### Save Recommended Playlist at a User´s Playlist  \n",
    "\n",
    "SaveSpotifyPlaylist function save Recommendations Playlist by replacing Playlist´s Items from your environment variable playlistID"
   ]
  },
  {
   "cell_type": "code",
   "execution_count": 31,
   "metadata": {},
   "outputs": [],
   "source": [
    "def SaveSpotifyPlaylist(playlistsTracksSPIDs):\n",
    "    \"\"\"\n",
    "    Return snapshot_id if Spotify playlistID is replaced with track list\n",
    "    :param playlistsTracksSPIDs: list of track SPIDs  \n",
    "    \"\"\" \n",
    "    \n",
    "    # Reading Spotify web API credentials from settings.env hidden file\n",
    "    settings_root = \"./settings/\"\n",
    "    settingsfile = os.path.join(settings_root, \"settings.env\")\n",
    "    with open(settingsfile) as f:\n",
    "        env_vars = json.loads(f.read())\n",
    "    \n",
    "    # Authorization flow\n",
    "\n",
    "    client_id = env_vars['SPOTIPY_CLIENT_ID']\n",
    "    client_secret = env_vars['SPOTIPY_CLIENT_SECRET']\n",
    "    redirect_uri = env_vars['SPOTIPY_REDIRECT_URI']\n",
    "    username = env_vars['SPOTIPY_USER']\n",
    "    playlistID = env_vars['PLAYLIST_ID']\n",
    "    scope = 'playlist-read-private playlist-modify-public'\n",
    "\n",
    "    token = util.prompt_for_user_token(username, scope, client_id, client_secret, redirect_uri)\n",
    "\n",
    "    if token:\n",
    "        sp = spotipy.Spotify(auth=token)\n",
    "    else:\n",
    "        print(\"Can't get token for\", username)  \n",
    "    \n",
    "    results = sp.user_playlist_replace_tracks(username, playlistID, playlistsTracksSPIDs)\n",
    "    \n",
    "    if results:\n",
    "        return results['snapshot_id']\n",
    "    else:\n",
    "        return 'Error'  "
   ]
  },
  {
   "cell_type": "code",
   "execution_count": 46,
   "metadata": {},
   "outputs": [],
   "source": [
    "result = SaveSpotifyPlaylist(recommendedTracks_SPIDs)"
   ]
  },
  {
   "cell_type": "code",
   "execution_count": 47,
   "metadata": {},
   "outputs": [
    {
     "data": {
      "text/plain": [
       "'MTA1LDI2OGMxMTg0ZTZkNWNlZWRhYmJlZTBkOGE1ZjIxNzc1MmMxYmQ1YTg='"
      ]
     },
     "execution_count": 47,
     "metadata": {},
     "output_type": "execute_result"
    }
   ],
   "source": [
    "result"
   ]
  },
  {
   "cell_type": "code",
   "execution_count": null,
   "metadata": {},
   "outputs": [],
   "source": []
  }
 ],
 "metadata": {
  "kernelspec": {
   "display_name": "Python 3",
   "language": "python",
   "name": "python3"
  },
  "language_info": {
   "codemirror_mode": {
    "name": "ipython",
    "version": 3
   },
   "file_extension": ".py",
   "mimetype": "text/x-python",
   "name": "python",
   "nbconvert_exporter": "python",
   "pygments_lexer": "ipython3",
   "version": "3.8.5"
  }
 },
 "nbformat": 4,
 "nbformat_minor": 4
}
