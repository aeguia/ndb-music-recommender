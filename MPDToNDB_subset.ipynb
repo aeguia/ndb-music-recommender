{
 "cells": [
  {
   "cell_type": "markdown",
   "metadata": {},
   "source": [
    "### Load Libraries"
   ]
  },
  {
   "cell_type": "code",
   "execution_count": 1,
   "metadata": {},
   "outputs": [],
   "source": [
    "import matplotlib\n",
    "import matplotlib.patches as mpatches\n",
    "import matplotlib.pyplot as plt\n",
    "from matplotlib.gridspec import GridSpec\n",
    "import numpy as np\n",
    "import pandas as pd\n",
    "import io\n",
    "import os\n",
    "import timeit\n",
    "import pickle\n",
    "\n",
    "import scipy.sparse as sp"
   ]
  },
  {
   "cell_type": "markdown",
   "metadata": {},
   "source": [
    "### Read Rating Matrix NDB_MPD"
   ]
  },
  {
   "cell_type": "code",
   "execution_count": 2,
   "metadata": {},
   "outputs": [],
   "source": [
    "sparse_matrix = sp.load_npz('./data/matrix_playlistTrackRating_ndb.npz')"
   ]
  },
  {
   "cell_type": "code",
   "execution_count": 3,
   "metadata": {},
   "outputs": [
    {
     "data": {
      "text/plain": [
       "<279032x1124914 sparse matrix of type '<class 'numpy.int8'>'\n",
       "\twith 23545215 stored elements in Compressed Sparse Row format>"
      ]
     },
     "execution_count": 3,
     "metadata": {},
     "output_type": "execute_result"
    }
   ],
   "source": [
    "sparse_matrix"
   ]
  },
  {
   "cell_type": "code",
   "execution_count": 4,
   "metadata": {},
   "outputs": [
    {
     "name": "stdout",
     "output_type": "stream",
     "text": [
      "There are 279032 unique playlists and 23545215 unique tracks with 23545215 rates in NDB_MPD SparseMatrix\n"
     ]
    }
   ],
   "source": [
    "num_playlists = sparse_matrix.shape[0]\n",
    "num_tracks = sparse_matrix.shape[1]\n",
    "num_rates = num_tracks = sparse_matrix.nnz\n",
    "print('There are {} unique playlists and {} unique tracks with {} rates in NDB_MPD SparseMatrix'.format(num_playlists, num_tracks, num_rates))"
   ]
  },
  {
   "cell_type": "code",
   "execution_count": 5,
   "metadata": {},
   "outputs": [],
   "source": [
    "ratings_df = pd.DataFrame({'pid': sparse_matrix.tocoo().row, \n",
    "                           'tid': sparse_matrix.tocoo().col, \n",
    "                           'rate': sparse_matrix.tocoo().data})"
   ]
  },
  {
   "cell_type": "code",
   "execution_count": 6,
   "metadata": {},
   "outputs": [
    {
     "data": {
      "text/html": [
       "<div>\n",
       "<style scoped>\n",
       "    .dataframe tbody tr th:only-of-type {\n",
       "        vertical-align: middle;\n",
       "    }\n",
       "\n",
       "    .dataframe tbody tr th {\n",
       "        vertical-align: top;\n",
       "    }\n",
       "\n",
       "    .dataframe thead th {\n",
       "        text-align: right;\n",
       "    }\n",
       "</style>\n",
       "<table border=\"1\" class=\"dataframe\">\n",
       "  <thead>\n",
       "    <tr style=\"text-align: right;\">\n",
       "      <th></th>\n",
       "      <th>pid</th>\n",
       "      <th>tid</th>\n",
       "      <th>rate</th>\n",
       "    </tr>\n",
       "  </thead>\n",
       "  <tbody>\n",
       "    <tr>\n",
       "      <th>0</th>\n",
       "      <td>0</td>\n",
       "      <td>0</td>\n",
       "      <td>1</td>\n",
       "    </tr>\n",
       "    <tr>\n",
       "      <th>1</th>\n",
       "      <td>0</td>\n",
       "      <td>1</td>\n",
       "      <td>1</td>\n",
       "    </tr>\n",
       "    <tr>\n",
       "      <th>2</th>\n",
       "      <td>0</td>\n",
       "      <td>2</td>\n",
       "      <td>1</td>\n",
       "    </tr>\n",
       "    <tr>\n",
       "      <th>3</th>\n",
       "      <td>0</td>\n",
       "      <td>3</td>\n",
       "      <td>1</td>\n",
       "    </tr>\n",
       "    <tr>\n",
       "      <th>4</th>\n",
       "      <td>0</td>\n",
       "      <td>4</td>\n",
       "      <td>1</td>\n",
       "    </tr>\n",
       "    <tr>\n",
       "      <th>...</th>\n",
       "      <td>...</td>\n",
       "      <td>...</td>\n",
       "      <td>...</td>\n",
       "    </tr>\n",
       "    <tr>\n",
       "      <th>23545210</th>\n",
       "      <td>279031</td>\n",
       "      <td>1745</td>\n",
       "      <td>1</td>\n",
       "    </tr>\n",
       "    <tr>\n",
       "      <th>23545211</th>\n",
       "      <td>279031</td>\n",
       "      <td>36450</td>\n",
       "      <td>1</td>\n",
       "    </tr>\n",
       "    <tr>\n",
       "      <th>23545212</th>\n",
       "      <td>279031</td>\n",
       "      <td>29925</td>\n",
       "      <td>1</td>\n",
       "    </tr>\n",
       "    <tr>\n",
       "      <th>23545213</th>\n",
       "      <td>279031</td>\n",
       "      <td>4591</td>\n",
       "      <td>1</td>\n",
       "    </tr>\n",
       "    <tr>\n",
       "      <th>23545214</th>\n",
       "      <td>279031</td>\n",
       "      <td>12497</td>\n",
       "      <td>1</td>\n",
       "    </tr>\n",
       "  </tbody>\n",
       "</table>\n",
       "<p>23545215 rows × 3 columns</p>\n",
       "</div>"
      ],
      "text/plain": [
       "             pid    tid  rate\n",
       "0              0      0     1\n",
       "1              0      1     1\n",
       "2              0      2     1\n",
       "3              0      3     1\n",
       "4              0      4     1\n",
       "...          ...    ...   ...\n",
       "23545210  279031   1745     1\n",
       "23545211  279031  36450     1\n",
       "23545212  279031  29925     1\n",
       "23545213  279031   4591     1\n",
       "23545214  279031  12497     1\n",
       "\n",
       "[23545215 rows x 3 columns]"
      ]
     },
     "execution_count": 6,
     "metadata": {},
     "output_type": "execute_result"
    }
   ],
   "source": [
    "ratings_df"
   ]
  },
  {
   "cell_type": "markdown",
   "metadata": {},
   "source": [
    "### Filter Data"
   ]
  },
  {
   "cell_type": "code",
   "execution_count": 7,
   "metadata": {},
   "outputs": [
    {
     "data": {
      "text/html": [
       "<div>\n",
       "<style scoped>\n",
       "    .dataframe tbody tr th:only-of-type {\n",
       "        vertical-align: middle;\n",
       "    }\n",
       "\n",
       "    .dataframe tbody tr th {\n",
       "        vertical-align: top;\n",
       "    }\n",
       "\n",
       "    .dataframe thead th {\n",
       "        text-align: right;\n",
       "    }\n",
       "</style>\n",
       "<table border=\"1\" class=\"dataframe\">\n",
       "  <thead>\n",
       "    <tr style=\"text-align: right;\">\n",
       "      <th></th>\n",
       "      <th>count</th>\n",
       "    </tr>\n",
       "    <tr>\n",
       "      <th>tid</th>\n",
       "      <th></th>\n",
       "    </tr>\n",
       "  </thead>\n",
       "  <tbody>\n",
       "    <tr>\n",
       "      <th>0</th>\n",
       "      <td>7678</td>\n",
       "    </tr>\n",
       "    <tr>\n",
       "      <th>1</th>\n",
       "      <td>2</td>\n",
       "    </tr>\n",
       "    <tr>\n",
       "      <th>2</th>\n",
       "      <td>1</td>\n",
       "    </tr>\n",
       "    <tr>\n",
       "      <th>3</th>\n",
       "      <td>1</td>\n",
       "    </tr>\n",
       "    <tr>\n",
       "      <th>4</th>\n",
       "      <td>8</td>\n",
       "    </tr>\n",
       "  </tbody>\n",
       "</table>\n",
       "</div>"
      ],
      "text/plain": [
       "     count\n",
       "tid       \n",
       "0     7678\n",
       "1        2\n",
       "2        1\n",
       "3        1\n",
       "4        8"
      ]
     },
     "execution_count": 7,
     "metadata": {},
     "output_type": "execute_result"
    }
   ],
   "source": [
    "# Rating frequency\n",
    "df_tracks_cnt = pd.DataFrame(ratings_df.groupby('tid').size(), columns=['count'])\n",
    "df_tracks_cnt.head()"
   ]
  },
  {
   "cell_type": "markdown",
   "metadata": {},
   "source": [
    "### 1) Filter tracks having a minimum of 10 rates"
   ]
  },
  {
   "cell_type": "code",
   "execution_count": 37,
   "metadata": {},
   "outputs": [
    {
     "data": {
      "text/plain": [
       "1.00    19393.0\n",
       "0.99      323.0\n",
       "0.98      145.0\n",
       "0.97       87.0\n",
       "0.96       60.0\n",
       "0.95       45.0\n",
       "0.94       35.0\n",
       "0.93       28.0\n",
       "0.92       24.0\n",
       "0.91       20.0\n",
       "0.90       17.0\n",
       "0.89       15.0\n",
       "0.88       13.0\n",
       "0.87       12.0\n",
       "0.86       11.0\n",
       "0.85       10.0\n",
       "Name: count, dtype: float64"
      ]
     },
     "execution_count": 37,
     "metadata": {},
     "output_type": "execute_result"
    }
   ],
   "source": [
    "df_tracks_cnt['count'].quantile(np.arange(1, 0.85, -0.01))"
   ]
  },
  {
   "cell_type": "code",
   "execution_count": 38,
   "metadata": {},
   "outputs": [],
   "source": [
    "popularity_thres = 10\n",
    "popular_tracks = list(set(df_tracks_cnt.query('count >= @popularity_thres').index))"
   ]
  },
  {
   "cell_type": "code",
   "execution_count": 39,
   "metadata": {},
   "outputs": [
    {
     "data": {
      "text/plain": [
       "170148"
      ]
     },
     "execution_count": 39,
     "metadata": {},
     "output_type": "execute_result"
    }
   ],
   "source": [
    "len(popular_tracks)"
   ]
  },
  {
   "cell_type": "code",
   "execution_count": 40,
   "metadata": {},
   "outputs": [
    {
     "name": "stdout",
     "output_type": "stream",
     "text": [
      "shape of original ratings data:  (23545215, 3)\n",
      "shape of ratings data after dropping unpopular tracks:  (21520018, 3)\n"
     ]
    }
   ],
   "source": [
    "ratings_drop_tracks_df = ratings_df[ratings_df.tid.isin(popular_tracks)]\n",
    "print('shape of original ratings data: ', ratings_df.shape)\n",
    "print('shape of ratings data after dropping unpopular tracks: ', ratings_drop_tracks_df.shape)"
   ]
  },
  {
   "cell_type": "code",
   "execution_count": 44,
   "metadata": {},
   "outputs": [],
   "source": [
    "tracks_filter_cut = len(popular_tracks)"
   ]
  },
  {
   "cell_type": "code",
   "execution_count": 70,
   "metadata": {},
   "outputs": [
    {
     "data": {
      "image/png": "[encoded data removed]",
      "text/plain": [
       "<Figure size 720x576 with 2 Axes>"
      ]
     },
     "metadata": {
      "needs_background": "light"
     },
     "output_type": "display_data"
    }
   ],
   "source": [
    "# Plot: Rating frequency tracks\n",
    "\n",
    "fig, axes = plt.subplots(nrows=2, ncols=1)\n",
    "fig.suptitle('Rating Frequency of Tracks - MPD_NDB')\n",
    "\n",
    "ax1 = df_tracks_cnt \\\n",
    "    .sort_values('count', ascending=False) \\\n",
    "    .reset_index(drop=True) \\\n",
    "    .plot(\n",
    "        figsize=(10, 8),\n",
    "        fontsize=12,\n",
    "        ax=axes[0]\n",
    "    )\n",
    "ax1.set_xlabel(\"Track Id\")\n",
    "ax1.set_ylabel(\"Number of ratings\")\n",
    "L1=ax1.legend() \n",
    "L1.get_texts()[0].set_text('num ratings')\n",
    "\n",
    "ax2 = df_tracks_cnt \\\n",
    "    .sort_values('count', ascending=False) \\\n",
    "    .reset_index(drop=True) \\\n",
    "    .plot(\n",
    "        figsize=(10, 8),\n",
    "        fontsize=12,\n",
    "        logy=True,\n",
    "        ax=axes[1]     \n",
    "    )\n",
    "ax2.set_xlabel(\"Track Id\")\n",
    "ax2.set_ylabel(\"Number of ratings (log scale)\")\n",
    "ax2.axvline(x=tracks_filter_cut, color='orange', linestyle='dashdot')\n",
    "L2=ax2.legend()\n",
    "L2.get_texts()[0].set_text('num ratings')"
   ]
  },
  {
   "cell_type": "code",
   "execution_count": 78,
   "metadata": {},
   "outputs": [],
   "source": [
    "fig.savefig('./visualization/Rating Frequency of Tracks - MPD_NDB.png')"
   ]
  },
  {
   "cell_type": "code",
   "execution_count": 47,
   "metadata": {},
   "outputs": [
    {
     "data": {
      "text/html": [
       "<div>\n",
       "<style scoped>\n",
       "    .dataframe tbody tr th:only-of-type {\n",
       "        vertical-align: middle;\n",
       "    }\n",
       "\n",
       "    .dataframe tbody tr th {\n",
       "        vertical-align: top;\n",
       "    }\n",
       "\n",
       "    .dataframe thead th {\n",
       "        text-align: right;\n",
       "    }\n",
       "</style>\n",
       "<table border=\"1\" class=\"dataframe\">\n",
       "  <thead>\n",
       "    <tr style=\"text-align: right;\">\n",
       "      <th></th>\n",
       "      <th>count</th>\n",
       "    </tr>\n",
       "    <tr>\n",
       "      <th>pid</th>\n",
       "      <th></th>\n",
       "    </tr>\n",
       "  </thead>\n",
       "  <tbody>\n",
       "    <tr>\n",
       "      <th>90028</th>\n",
       "      <td>250</td>\n",
       "    </tr>\n",
       "    <tr>\n",
       "      <th>258076</th>\n",
       "      <td>250</td>\n",
       "    </tr>\n",
       "    <tr>\n",
       "      <th>163876</th>\n",
       "      <td>250</td>\n",
       "    </tr>\n",
       "    <tr>\n",
       "      <th>195246</th>\n",
       "      <td>250</td>\n",
       "    </tr>\n",
       "    <tr>\n",
       "      <th>237628</th>\n",
       "      <td>249</td>\n",
       "    </tr>\n",
       "    <tr>\n",
       "      <th>...</th>\n",
       "      <td>...</td>\n",
       "    </tr>\n",
       "    <tr>\n",
       "      <th>32310</th>\n",
       "      <td>1</td>\n",
       "    </tr>\n",
       "    <tr>\n",
       "      <th>14033</th>\n",
       "      <td>1</td>\n",
       "    </tr>\n",
       "    <tr>\n",
       "      <th>75825</th>\n",
       "      <td>1</td>\n",
       "    </tr>\n",
       "    <tr>\n",
       "      <th>138957</th>\n",
       "      <td>1</td>\n",
       "    </tr>\n",
       "    <tr>\n",
       "      <th>11881</th>\n",
       "      <td>1</td>\n",
       "    </tr>\n",
       "  </tbody>\n",
       "</table>\n",
       "<p>278986 rows × 1 columns</p>\n",
       "</div>"
      ],
      "text/plain": [
       "        count\n",
       "pid          \n",
       "90028     250\n",
       "258076    250\n",
       "163876    250\n",
       "195246    250\n",
       "237628    249\n",
       "...       ...\n",
       "32310       1\n",
       "14033       1\n",
       "75825       1\n",
       "138957      1\n",
       "11881       1\n",
       "\n",
       "[278986 rows x 1 columns]"
      ]
     },
     "execution_count": 47,
     "metadata": {},
     "output_type": "execute_result"
    }
   ],
   "source": [
    "# get number of tracks per playlist\n",
    "playlists_cnt_df = pd.DataFrame(ratings_drop_tracks_df.groupby('pid').size(), columns=['count'])\n",
    "playlists_cnt_df.sort_values(by='count', ascending=False)"
   ]
  },
  {
   "cell_type": "markdown",
   "metadata": {},
   "source": [
    "### 2) Filter playlists having a minimum length of 50 tracks on it"
   ]
  },
  {
   "cell_type": "code",
   "execution_count": 48,
   "metadata": {},
   "outputs": [
    {
     "data": {
      "text/plain": [
       "1.00    250.0\n",
       "0.95    187.0\n",
       "0.90    158.0\n",
       "0.85    138.0\n",
       "0.80    121.0\n",
       "0.75    108.0\n",
       "0.70     97.0\n",
       "0.65     87.0\n",
       "0.60     78.0\n",
       "0.55     70.0\n",
       "0.50     63.0\n",
       "0.45     57.0\n",
       "0.40     51.0\n",
       "0.35     45.0\n",
       "0.30     40.0\n",
       "0.25     35.0\n",
       "0.20     30.0\n",
       "0.15     25.0\n",
       "Name: count, dtype: float64"
      ]
     },
     "execution_count": 48,
     "metadata": {},
     "output_type": "execute_result"
    }
   ],
   "source": [
    "playlists_cnt_df['count'].quantile(np.arange(1, 0.1, -0.05))"
   ]
  },
  {
   "cell_type": "code",
   "execution_count": 49,
   "metadata": {},
   "outputs": [
    {
     "name": "stdout",
     "output_type": "stream",
     "text": [
      "shape of original ratings data:  (23545215, 3)\n",
      "shape of ratings data after dropping both; unpopular tracks and short playlists:  (18378358, 3)\n"
     ]
    }
   ],
   "source": [
    "# filter data\n",
    "ratings_thres = 50\n",
    "long_playlists = list(set(playlists_cnt_df.query('count >= @ratings_thres').index))\n",
    "ratings_drop_playlists_df = ratings_drop_tracks_df[ratings_drop_tracks_df.pid.isin(long_playlists)]\n",
    "print('shape of original ratings data: ', ratings_df.shape)\n",
    "print('shape of ratings data after dropping both; unpopular tracks and short playlists: ', ratings_drop_playlists_df.shape)"
   ]
  },
  {
   "cell_type": "code",
   "execution_count": 50,
   "metadata": {},
   "outputs": [
    {
     "data": {
      "text/plain": [
       "171069"
      ]
     },
     "execution_count": 50,
     "metadata": {},
     "output_type": "execute_result"
    }
   ],
   "source": [
    "# Number of Playlists after dropping\n",
    "\n",
    "ratings_drop_playlists_df.pid.nunique()"
   ]
  },
  {
   "cell_type": "code",
   "execution_count": 51,
   "metadata": {},
   "outputs": [
    {
     "data": {
      "text/plain": [
       "170117"
      ]
     },
     "execution_count": 51,
     "metadata": {},
     "output_type": "execute_result"
    }
   ],
   "source": [
    "# Number of Tracks after dropping\n",
    "\n",
    "ratings_drop_playlists_df.tid.nunique()"
   ]
  },
  {
   "cell_type": "code",
   "execution_count": 52,
   "metadata": {},
   "outputs": [],
   "source": [
    "playlists_filter_cut = ratings_drop_playlists_df.pid.nunique()"
   ]
  },
  {
   "cell_type": "code",
   "execution_count": 65,
   "metadata": {},
   "outputs": [
    {
     "data": {
      "text/html": [
       "<div>\n",
       "<style scoped>\n",
       "    .dataframe tbody tr th:only-of-type {\n",
       "        vertical-align: middle;\n",
       "    }\n",
       "\n",
       "    .dataframe tbody tr th {\n",
       "        vertical-align: top;\n",
       "    }\n",
       "\n",
       "    .dataframe thead th {\n",
       "        text-align: right;\n",
       "    }\n",
       "</style>\n",
       "<table border=\"1\" class=\"dataframe\">\n",
       "  <thead>\n",
       "    <tr style=\"text-align: right;\">\n",
       "      <th></th>\n",
       "      <th>count</th>\n",
       "    </tr>\n",
       "    <tr>\n",
       "      <th>pid</th>\n",
       "      <th></th>\n",
       "    </tr>\n",
       "  </thead>\n",
       "  <tbody>\n",
       "    <tr>\n",
       "      <th>0</th>\n",
       "      <td>32</td>\n",
       "    </tr>\n",
       "    <tr>\n",
       "      <th>1</th>\n",
       "      <td>75</td>\n",
       "    </tr>\n",
       "    <tr>\n",
       "      <th>2</th>\n",
       "      <td>34</td>\n",
       "    </tr>\n",
       "    <tr>\n",
       "      <th>3</th>\n",
       "      <td>46</td>\n",
       "    </tr>\n",
       "    <tr>\n",
       "      <th>4</th>\n",
       "      <td>106</td>\n",
       "    </tr>\n",
       "    <tr>\n",
       "      <th>...</th>\n",
       "      <td>...</td>\n",
       "    </tr>\n",
       "    <tr>\n",
       "      <th>279027</th>\n",
       "      <td>123</td>\n",
       "    </tr>\n",
       "    <tr>\n",
       "      <th>279028</th>\n",
       "      <td>173</td>\n",
       "    </tr>\n",
       "    <tr>\n",
       "      <th>279029</th>\n",
       "      <td>94</td>\n",
       "    </tr>\n",
       "    <tr>\n",
       "      <th>279030</th>\n",
       "      <td>36</td>\n",
       "    </tr>\n",
       "    <tr>\n",
       "      <th>279031</th>\n",
       "      <td>92</td>\n",
       "    </tr>\n",
       "  </tbody>\n",
       "</table>\n",
       "<p>278986 rows × 1 columns</p>\n",
       "</div>"
      ],
      "text/plain": [
       "        count\n",
       "pid          \n",
       "0          32\n",
       "1          75\n",
       "2          34\n",
       "3          46\n",
       "4         106\n",
       "...       ...\n",
       "279027    123\n",
       "279028    173\n",
       "279029     94\n",
       "279030     36\n",
       "279031     92\n",
       "\n",
       "[278986 rows x 1 columns]"
      ]
     },
     "execution_count": 65,
     "metadata": {},
     "output_type": "execute_result"
    }
   ],
   "source": [
    "playlists_cnt_df"
   ]
  },
  {
   "cell_type": "code",
   "execution_count": 76,
   "metadata": {},
   "outputs": [
    {
     "data": {
      "image/png": "[encoded data removed]",
      "text/plain": [
       "<Figure size 1008x432 with 1 Axes>"
      ]
     },
     "metadata": {
      "needs_background": "light"
     },
     "output_type": "display_data"
    }
   ],
   "source": [
    "# Plot: number of tracks by Playlists in MPD_NDB\n",
    "\n",
    "ax = playlists_cnt_df \\\n",
    "    .sort_values('count', ascending=False) \\\n",
    "    .reset_index(drop=True) \\\n",
    "    .plot(\n",
    "        figsize=(14, 6),\n",
    "        title='Playlists track lenght',\n",
    "        fontsize=12\n",
    "    )\n",
    "ax.set_xlabel(\"playlist Id\")\n",
    "ax.set_ylabel(\"number of tracks per playlist\")\n",
    "ax.axvline(x=playlists_filter_cut, color='orange', linestyle='dashdot')\n",
    "L=ax.legend()\n",
    "L.get_texts()[0].set_text('num tracks')"
   ]
  },
  {
   "cell_type": "code",
   "execution_count": 79,
   "metadata": {},
   "outputs": [],
   "source": [
    "ax.figure.savefig('./visualization/Filter by playlist length - threshold 50.png')"
   ]
  },
  {
   "cell_type": "markdown",
   "metadata": {},
   "source": [
    "### Create Dict mapping to original index (pid and tid)  \n",
    "* Use it before reset_index"
   ]
  },
  {
   "cell_type": "code",
   "execution_count": 87,
   "metadata": {},
   "outputs": [],
   "source": [
    "# List original pid from MPD_NDB dataset\n",
    "mpdNDB_pid_list = list(ratings_df.pid.unique())"
   ]
  },
  {
   "cell_type": "code",
   "execution_count": 88,
   "metadata": {},
   "outputs": [
    {
     "data": {
      "text/plain": [
       "279032"
      ]
     },
     "execution_count": 88,
     "metadata": {},
     "output_type": "execute_result"
    }
   ],
   "source": [
    "len(mpdNDB_pid_list)"
   ]
  },
  {
   "cell_type": "code",
   "execution_count": 89,
   "metadata": {},
   "outputs": [],
   "source": [
    "# List of pid Subset_mpdNDB \n",
    "subset_mpdNDB_pid_list = list(ratings_drop_playlists_df.pid.unique())"
   ]
  },
  {
   "cell_type": "code",
   "execution_count": 90,
   "metadata": {},
   "outputs": [
    {
     "data": {
      "text/plain": [
       "171069"
      ]
     },
     "execution_count": 90,
     "metadata": {},
     "output_type": "execute_result"
    }
   ],
   "source": [
    "len(subset_mpdNDB_pid_list)"
   ]
  },
  {
   "cell_type": "code",
   "execution_count": 91,
   "metadata": {},
   "outputs": [],
   "source": [
    "# List of Deleted pid from MPD_NDB dataset\n",
    "del_pid_list = list(set(mpdNDB_pid_list) - set(subset_mpdNDB_pid_list))"
   ]
  },
  {
   "cell_type": "code",
   "execution_count": 92,
   "metadata": {},
   "outputs": [
    {
     "data": {
      "text/plain": [
       "107963"
      ]
     },
     "execution_count": 92,
     "metadata": {},
     "output_type": "execute_result"
    }
   ],
   "source": [
    "len(del_pid_list)"
   ]
  },
  {
   "cell_type": "code",
   "execution_count": 93,
   "metadata": {},
   "outputs": [],
   "source": [
    "# Dict to map original pid at mpdNDB dataset (pid) with new (index) at subset_mpdNDB\n",
    "# Dict {key:value} --> {old_pid:newpid}\n",
    "\n",
    "new_pid_index = {pid: index for index, pid in enumerate(subset_mpdNDB_pid_list, start=0)}"
   ]
  },
  {
   "cell_type": "code",
   "execution_count": 94,
   "metadata": {},
   "outputs": [
    {
     "data": {
      "text/plain": [
       "[(279019, 171059),\n",
       " (279020, 171060),\n",
       " (279021, 171061),\n",
       " (279023, 171062),\n",
       " (279025, 171063),\n",
       " (279026, 171064),\n",
       " (279027, 171065),\n",
       " (279028, 171066),\n",
       " (279029, 171067),\n",
       " (279031, 171068)]"
      ]
     },
     "execution_count": 94,
     "metadata": {},
     "output_type": "execute_result"
    }
   ],
   "source": [
    "# Last 10 elements at new_pid_index Dict\n",
    "\n",
    "pidIDs = [ (key, value) for key, value in new_pid_index.items() if value in range(len(new_pid_index)-10,len(new_pid_index))]\n",
    "pidIDs"
   ]
  },
  {
   "cell_type": "code",
   "execution_count": 95,
   "metadata": {},
   "outputs": [],
   "source": [
    "# List original tid from MPD_NDB dataset\n",
    "mpdNDB_tid_list = list(ratings_df.tid.unique())"
   ]
  },
  {
   "cell_type": "code",
   "execution_count": 96,
   "metadata": {},
   "outputs": [
    {
     "data": {
      "text/plain": [
       "1124914"
      ]
     },
     "execution_count": 96,
     "metadata": {},
     "output_type": "execute_result"
    }
   ],
   "source": [
    "len(mpdNDB_tid_list)"
   ]
  },
  {
   "cell_type": "code",
   "execution_count": 97,
   "metadata": {},
   "outputs": [],
   "source": [
    "# List of tid in Subset_mpdNDB \n",
    "subset_mpdNDB_tid_list = list(ratings_drop_playlists_df.tid.unique())"
   ]
  },
  {
   "cell_type": "code",
   "execution_count": 99,
   "metadata": {},
   "outputs": [
    {
     "data": {
      "text/plain": [
       "170117"
      ]
     },
     "execution_count": 99,
     "metadata": {},
     "output_type": "execute_result"
    }
   ],
   "source": [
    "len(subset_mpdNDB_tid_list)"
   ]
  },
  {
   "cell_type": "code",
   "execution_count": 100,
   "metadata": {},
   "outputs": [],
   "source": [
    "# List of Deleted tid from MPD_NDB dataset\n",
    "del_tid_list = list(set(mpdNDB_tid_list) - set(subset_mpdNDB_tid_list))"
   ]
  },
  {
   "cell_type": "code",
   "execution_count": 101,
   "metadata": {},
   "outputs": [
    {
     "data": {
      "text/plain": [
       "954797"
      ]
     },
     "execution_count": 101,
     "metadata": {},
     "output_type": "execute_result"
    }
   ],
   "source": [
    "len(del_tid_list)"
   ]
  },
  {
   "cell_type": "code",
   "execution_count": 102,
   "metadata": {},
   "outputs": [],
   "source": [
    "# Dict to map original tid at mpdNDB dataset (tid) with new (index) at subset_mpdNDB\n",
    "# Dict {key:value} --> {old_tid:new_tid}\n",
    "\n",
    "new_tid_index = {tid: index for index, tid in enumerate(subset_mpdNDB_tid_list, start=0)}"
   ]
  },
  {
   "cell_type": "code",
   "execution_count": 103,
   "metadata": {},
   "outputs": [
    {
     "data": {
      "text/plain": [
       "[(143321, 170107),\n",
       " (159446, 170108),\n",
       " (501713, 170109),\n",
       " (723864, 170110),\n",
       " (356430, 170111),\n",
       " (141057, 170112),\n",
       " (141059, 170113),\n",
       " (696494, 170114),\n",
       " (285191, 170115),\n",
       " (286426, 170116)]"
      ]
     },
     "execution_count": 103,
     "metadata": {},
     "output_type": "execute_result"
    }
   ],
   "source": [
    "# Last 10 elements at new_tid_index Dict\n",
    "\n",
    "tidIDs = [ (key, value) for key, value in new_tid_index.items() if value in range(len(new_tid_index)-10,len(new_tid_index))]\n",
    "tidIDs"
   ]
  },
  {
   "cell_type": "markdown",
   "metadata": {},
   "source": [
    "### Reset indexes at subset_mpdNDB dataset"
   ]
  },
  {
   "cell_type": "code",
   "execution_count": 104,
   "metadata": {},
   "outputs": [],
   "source": [
    "subset_mpdNDB = ratings_drop_playlists_df.reset_index(drop=True)"
   ]
  },
  {
   "cell_type": "code",
   "execution_count": 105,
   "metadata": {},
   "outputs": [],
   "source": [
    "subset_mpdNDB['pid'] = subset_mpdNDB['pid'].apply(lambda x: new_pid_index[x])"
   ]
  },
  {
   "cell_type": "code",
   "execution_count": 106,
   "metadata": {},
   "outputs": [],
   "source": [
    "subset_mpdNDB['tid'] = subset_mpdNDB['tid'].apply(lambda x: new_tid_index[x])"
   ]
  },
  {
   "cell_type": "code",
   "execution_count": 107,
   "metadata": {},
   "outputs": [
    {
     "data": {
      "text/html": [
       "<div>\n",
       "<style scoped>\n",
       "    .dataframe tbody tr th:only-of-type {\n",
       "        vertical-align: middle;\n",
       "    }\n",
       "\n",
       "    .dataframe tbody tr th {\n",
       "        vertical-align: top;\n",
       "    }\n",
       "\n",
       "    .dataframe thead th {\n",
       "        text-align: right;\n",
       "    }\n",
       "</style>\n",
       "<table border=\"1\" class=\"dataframe\">\n",
       "  <thead>\n",
       "    <tr style=\"text-align: right;\">\n",
       "      <th></th>\n",
       "      <th>pid</th>\n",
       "      <th>tid</th>\n",
       "      <th>rate</th>\n",
       "    </tr>\n",
       "  </thead>\n",
       "  <tbody>\n",
       "    <tr>\n",
       "      <th>0</th>\n",
       "      <td>0</td>\n",
       "      <td>0</td>\n",
       "      <td>1</td>\n",
       "    </tr>\n",
       "    <tr>\n",
       "      <th>1</th>\n",
       "      <td>0</td>\n",
       "      <td>1</td>\n",
       "      <td>1</td>\n",
       "    </tr>\n",
       "    <tr>\n",
       "      <th>2</th>\n",
       "      <td>0</td>\n",
       "      <td>2</td>\n",
       "      <td>1</td>\n",
       "    </tr>\n",
       "    <tr>\n",
       "      <th>3</th>\n",
       "      <td>0</td>\n",
       "      <td>3</td>\n",
       "      <td>1</td>\n",
       "    </tr>\n",
       "    <tr>\n",
       "      <th>4</th>\n",
       "      <td>0</td>\n",
       "      <td>4</td>\n",
       "      <td>1</td>\n",
       "    </tr>\n",
       "    <tr>\n",
       "      <th>...</th>\n",
       "      <td>...</td>\n",
       "      <td>...</td>\n",
       "      <td>...</td>\n",
       "    </tr>\n",
       "    <tr>\n",
       "      <th>18378353</th>\n",
       "      <td>171068</td>\n",
       "      <td>1352</td>\n",
       "      <td>1</td>\n",
       "    </tr>\n",
       "    <tr>\n",
       "      <th>18378354</th>\n",
       "      <td>171068</td>\n",
       "      <td>160312</td>\n",
       "      <td>1</td>\n",
       "    </tr>\n",
       "    <tr>\n",
       "      <th>18378355</th>\n",
       "      <td>171068</td>\n",
       "      <td>22564</td>\n",
       "      <td>1</td>\n",
       "    </tr>\n",
       "    <tr>\n",
       "      <th>18378356</th>\n",
       "      <td>171068</td>\n",
       "      <td>3576</td>\n",
       "      <td>1</td>\n",
       "    </tr>\n",
       "    <tr>\n",
       "      <th>18378357</th>\n",
       "      <td>171068</td>\n",
       "      <td>10006</td>\n",
       "      <td>1</td>\n",
       "    </tr>\n",
       "  </tbody>\n",
       "</table>\n",
       "<p>18378358 rows × 3 columns</p>\n",
       "</div>"
      ],
      "text/plain": [
       "             pid     tid  rate\n",
       "0              0       0     1\n",
       "1              0       1     1\n",
       "2              0       2     1\n",
       "3              0       3     1\n",
       "4              0       4     1\n",
       "...          ...     ...   ...\n",
       "18378353  171068    1352     1\n",
       "18378354  171068  160312     1\n",
       "18378355  171068   22564     1\n",
       "18378356  171068    3576     1\n",
       "18378357  171068   10006     1\n",
       "\n",
       "[18378358 rows x 3 columns]"
      ]
     },
     "execution_count": 107,
     "metadata": {},
     "output_type": "execute_result"
    }
   ],
   "source": [
    "subset_mpdNDB"
   ]
  },
  {
   "cell_type": "markdown",
   "metadata": {},
   "source": [
    "### Save Dicts in reverse order"
   ]
  },
  {
   "cell_type": "code",
   "execution_count": 108,
   "metadata": {},
   "outputs": [],
   "source": [
    "old_pid_index = {v: k for k, v in new_pid_index.items()}"
   ]
  },
  {
   "cell_type": "code",
   "execution_count": 109,
   "metadata": {},
   "outputs": [
    {
     "name": "stdout",
     "output_type": "stream",
     "text": [
      "Save old_pid_index Dict pkl format\n"
     ]
    }
   ],
   "source": [
    "print(f\"Save old_pid_index Dict pkl format\")\n",
    "pickle.dump(old_pid_index, open(f\"./data/old_pid_index.pkl\", \"wb\"))"
   ]
  },
  {
   "cell_type": "code",
   "execution_count": 110,
   "metadata": {},
   "outputs": [],
   "source": [
    "old_tid_index = {v: k for k, v in new_tid_index.items()}"
   ]
  },
  {
   "cell_type": "code",
   "execution_count": 111,
   "metadata": {},
   "outputs": [
    {
     "name": "stdout",
     "output_type": "stream",
     "text": [
      "Save old_tid_index Dict pkl format\n"
     ]
    }
   ],
   "source": [
    "print(f\"Save old_tid_index Dict pkl format\")\n",
    "pickle.dump(old_tid_index, open(f\"./data/old_tid_index.pkl\", \"wb\"))"
   ]
  },
  {
   "cell_type": "markdown",
   "metadata": {},
   "source": [
    "### Convert Dataframe to sparse matrix in csr format"
   ]
  },
  {
   "cell_type": "code",
   "execution_count": 112,
   "metadata": {},
   "outputs": [],
   "source": [
    "row_size = subset_mpdNDB.pid.nunique()\n",
    "col_size = subset_mpdNDB.tid.nunique()\n",
    "sp_data = subset_mpdNDB.rate\n",
    "sp_rows = subset_mpdNDB.pid\n",
    "sp_cols = subset_mpdNDB.tid\n",
    "subset_mpdNDB_sparse_matrix = sp.csr_matrix((sp_data, (sp_rows, sp_cols)), shape=(row_size, col_size))"
   ]
  },
  {
   "cell_type": "code",
   "execution_count": 113,
   "metadata": {},
   "outputs": [
    {
     "data": {
      "text/plain": [
       "<171069x170117 sparse matrix of type '<class 'numpy.int8'>'\n",
       "\twith 18378358 stored elements in Compressed Sparse Row format>"
      ]
     },
     "execution_count": 113,
     "metadata": {},
     "output_type": "execute_result"
    }
   ],
   "source": [
    "subset_mpdNDB_sparse_matrix"
   ]
  },
  {
   "cell_type": "code",
   "execution_count": 114,
   "metadata": {},
   "outputs": [],
   "source": [
    "sp.save_npz('./data/subset_mpdNDB_sparse_matrix.npz', subset_mpdNDB_sparse_matrix)"
   ]
  },
  {
   "cell_type": "code",
   "execution_count": null,
   "metadata": {},
   "outputs": [],
   "source": []
  }
 ],
 "metadata": {
  "kernelspec": {
   "display_name": "Python 3",
   "language": "python",
   "name": "python3"
  },
  "language_info": {
   "codemirror_mode": {
    "name": "ipython",
    "version": 3
   },
   "file_extension": ".py",
   "mimetype": "text/x-python",
   "name": "python",
   "nbconvert_exporter": "python",
   "pygments_lexer": "ipython3",
   "version": "3.8.5"
  }
 },
 "nbformat": 4,
 "nbformat_minor": 4
}
