{
 "cells": [
  {
   "cell_type": "markdown",
   "metadata": {},
   "source": [
    "### Load Libraries"
   ]
  },
  {
   "cell_type": "code",
   "execution_count": 1,
   "metadata": {},
   "outputs": [],
   "source": [
    "import numpy as np\n",
    "import pandas as pd\n",
    "import random\n",
    "import csv\n",
    "\n",
    "import timeit\n",
    "from tqdm import tqdm"
   ]
  },
  {
   "cell_type": "code",
   "execution_count": 2,
   "metadata": {},
   "outputs": [],
   "source": [
    "from model import mpd_ndb, model_knn\n",
    "from model import evaluate_model"
   ]
  },
  {
   "cell_type": "markdown",
   "metadata": {},
   "source": [
    "### Initialize NDB object to build kNN Model - k Nearest Neighbors"
   ]
  },
  {
   "cell_type": "code",
   "execution_count": 3,
   "metadata": {},
   "outputs": [],
   "source": [
    "ndb = mpd_ndb.spotify_mpd()"
   ]
  },
  {
   "cell_type": "code",
   "execution_count": 4,
   "metadata": {},
   "outputs": [
    {
     "name": "stdout",
     "output_type": "stream",
     "text": [
      "Tracks summary: There are 1124914 tracks from 172112 artists\n",
      "Track Dictionaries summary: There are 1124914 unique tracks in the dictionaries per tid and spid\n",
      "   pid  tid  rate\n",
      "0    0    0     1\n",
      "1    0    2     1\n",
      "2    0    3     1\n",
      "3    0    4     1\n",
      "4    0    5     1\n",
      "Train summary: There are 171069 playlist, 170068 tracks and 12864850 rates in the train set\n",
      "   pid  tid  rate\n",
      "0    0    1     1\n",
      "1    0    7     1\n",
      "2    0    8     1\n",
      "3    0   11     1\n",
      "4    0   14     1\n",
      "Test summary: There are 171069 playlist, 167581 tracks and 5513508 rates in the test set\n",
      "(171069, 170117)\n",
      "Train Matrix summary: 171069x170117 sparse matrix of dtype int8 with 12864850 stored elements in Compressed Sparse Row format\n",
      "(171069, 170117)\n",
      "Test Matrix summary: 171069x170117 sparse matrix of dtype int8 with 5513508 stored elements in Compressed Sparse Row format\n"
     ]
    }
   ],
   "source": [
    "ndb.get_data(True)"
   ]
  },
  {
   "cell_type": "markdown",
   "metadata": {},
   "source": [
    "### Initialize kNN Model"
   ]
  },
  {
   "cell_type": "code",
   "execution_count": 5,
   "metadata": {},
   "outputs": [],
   "source": [
    "# Define input variables\n",
    "\n",
    "name_kNN = 'knn'\n",
    "n_neighbors = 25\n",
    "metric = 'cosine'\n",
    "sp_train = ndb.train_sparse_matrix\n",
    "# X = random.randint(0, sp_train.shape[0]-1)   # Select Random Playlist ID\n",
    "topk = 50"
   ]
  },
  {
   "cell_type": "code",
   "execution_count": 6,
   "metadata": {},
   "outputs": [],
   "source": [
    "# Use same random PID-playlist as Popularity-Model\n",
    "X = 157638"
   ]
  },
  {
   "cell_type": "code",
   "execution_count": 7,
   "metadata": {},
   "outputs": [],
   "source": [
    "# k Nearest Neighbors\n",
    "kNN_model = model_knn.nneighbors_model(name_kNN, n_neighbors, metric, sp_train, True)"
   ]
  },
  {
   "cell_type": "markdown",
   "metadata": {},
   "source": [
    "### Predict Topk tracks using kNN Model"
   ]
  },
  {
   "cell_type": "code",
   "execution_count": 8,
   "metadata": {},
   "outputs": [
    {
     "data": {
      "text/plain": [
       "[(197, 'Break Apart - Bonobo'),\n",
       " (282, 'Goshen - Beirut'),\n",
       " (302, 'Pale Blue Eyes - The Velvet Underground'),\n",
       " (2938, 'Lua - Bright Eyes'),\n",
       " (3162, 'The Less I Know The Better - Tame Impala'),\n",
       " (4239, 'Heartbeats - José González'),\n",
       " (4424, '3 Rounds and a Sound - Blind Pilot'),\n",
       " (4722, 'Chamber Of Reflection - Mac Demarco'),\n",
       " (4938, 'Warm On A Cold Night - HONNE'),\n",
       " (5787, 'Cranes in the Sky - Solange'),\n",
       " (6170, 'River - Leon Bridges'),\n",
       " (6873, 'Between The Bars - Elliott Smith'),\n",
       " (6876, 'Timshel - Mumford & Sons'),\n",
       " (6885, 'Home - Bruno Major'),\n",
       " (6918,\n",
       "  'Wicked Game - Live at Killkenny Arts Festival, Ireland/2011 - James Vincent McMorrow'),\n",
       " (7839,\n",
       "  'This Night Has Opened My Eyes - 2011 Remastered Version - The Smiths'),\n",
       " (8081, 'On The Level - Mac Demarco'),\n",
       " (8539, 'Space Song - Beach House'),\n",
       " (10066,\n",
       "  'Please, Please, Please Let Me Get What I Want - 2011 Remastered Version - The Smiths'),\n",
       " (11666, 'Song For Zula - Phosphorescent'),\n",
       " (12425, 'Eyes - Rogue Wave'),\n",
       " (12440, 'If You Need To, Keep Time On Me - Fleet Foxes'),\n",
       " (12902, 'Call It Dreaming - Iron & Wine'),\n",
       " (12926, 'Social Jetlag - Beach Fossils'),\n",
       " (13643,\n",
       "  'The Predatory Wasp of The Palisades Is Out To Get Us - Sufjan Stevens'),\n",
       " (14202, 'Bashed Out - This Is The Kit'),\n",
       " (17154, 'Hannah Hunt - Vampire Weekend'),\n",
       " (20459, 'Hug Of Thunder - Broken Social Scene'),\n",
       " (20525, 'Time After Time - Iron & Wine'),\n",
       " (21662, 'No Hard Feelings - The Avett Brothers'),\n",
       " (23960, 'Julia - Remastered - The Beatles'),\n",
       " (23962, \"I'm So Tired - Remastered - The Beatles\"),\n",
       " (23968, 'Jesus, etc. - Wilco'),\n",
       " (24688, 'Paul - Big Thief'),\n",
       " (25483, 'Young Lion - Vampire Weekend'),\n",
       " (25919, 'Tiger Mountain Peasant Song - Fleet Foxes'),\n",
       " (29774, 'Love No Less Worthy - J. Tillman'),\n",
       " (29992, 'Baby Blue - King Krule'),\n",
       " (30481, 'Un Dernier Verre (Pour La Route) - Beirut'),\n",
       " (31379, 'Howling Light - J. Tillman'),\n",
       " (33041, 'Left It With The Moon - The Shacks'),\n",
       " (33361, 'Across The Universe - Remastered - The Beatles'),\n",
       " (35158, 'Affection - Cigarettes After Sex'),\n",
       " (35211, 'Magnetized - Wilco'),\n",
       " (37562, 'The Truest Stars We Know - Iron & Wine'),\n",
       " (41563, 'Can’t Let Go, Juno - Recorded at Spotify Studios NYC - Kishi Bashi'),\n",
       " (42403, 'Making a Fool of You - HOMESHAKE'),\n",
       " (42406, 'Adversity - Beach Fossils'),\n",
       " (48750, 'Waterloo Sunset - Stereo Mix - The Kinks'),\n",
       " (49021, 'Your Hand Holding Mine - Yellow Days'),\n",
       " (49247, 'Apocalypse - Cigarettes After Sex'),\n",
       " (49769, 'You Already Know - Bombay Bicycle Club'),\n",
       " (54181, 'I Love You Baby, I Love You Doll - Parekh & Singh'),\n",
       " (62040, 'Truth - Kamasi Washington'),\n",
       " (63616, 'Teenage Blue - Dream Girl'),\n",
       " (64581, 'So Allowed - Beirut'),\n",
       " (64944, 'Always On My Mind - Bahamas'),\n",
       " (68361, 'Dark Child - Marlon Williams'),\n",
       " (71607, 'Jealous Sun - Parker Millsap'),\n",
       " (74789, 'I Need a Man - Sam Evian'),\n",
       " (74964, 'Masterpiece - (solo) - Big Thief'),\n",
       " (79580, 'Sweet - Single Version - Cigarettes After Sex'),\n",
       " (80352, 'The Penalty - Beirut'),\n",
       " (80872, 'I Promise - Radiohead'),\n",
       " (81810, 'Reflections After Jane - The Clientele'),\n",
       " (90045, 'Ugotme - Omar Apollo'),\n",
       " (90048, 'Plants - Crumb'),\n",
       " (90049, 'Brakelights - Omar Apollo'),\n",
       " (94093, 'It Gets More Blue - Girlpool'),\n",
       " (95786, 'Panic - Recorded at Spotify Studios NYC - The Shins'),\n",
       " (138144, 'Looking for a Sign - Beck'),\n",
       " (144896, 'Laughtrack (feat. Father John Misty) - Botany'),\n",
       " (154425, 'Clean Up - JR JR')]"
      ]
     },
     "execution_count": 8,
     "metadata": {},
     "output_type": "execute_result"
    }
   ],
   "source": [
    "# Get titles from random Playlist - sp_train\n",
    "\n",
    "[(x, ndb.get_title(x)) for x in list(sp_train.getrow(X).indices)]"
   ]
  },
  {
   "cell_type": "code",
   "execution_count": 9,
   "metadata": {},
   "outputs": [],
   "source": [
    "recommends_knn = kNN_model.predict(X, topk, n_neighbors)"
   ]
  },
  {
   "cell_type": "code",
   "execution_count": 10,
   "metadata": {},
   "outputs": [],
   "source": [
    "# Get titles from Recommended tracks using k Nearest Neighbors Model for pid\n",
    "\n",
    "recommends_knn_rank = [[ndb.get_title(x), x] for x in recommends_knn]"
   ]
  },
  {
   "cell_type": "code",
   "execution_count": 11,
   "metadata": {},
   "outputs": [],
   "source": [
    "df_knn_recs = pd.DataFrame.from_records(recommends_knn_rank, \n",
    "                                         columns=['title', 'tid'],\n",
    "                                         index=pd.RangeIndex(start=1, stop=len(recommends_knn)+1, name='rank'))"
   ]
  },
  {
   "cell_type": "code",
   "execution_count": 12,
   "metadata": {},
   "outputs": [
    {
     "data": {
      "text/html": [
       "<div>\n",
       "<style scoped>\n",
       "    .dataframe tbody tr th:only-of-type {\n",
       "        vertical-align: middle;\n",
       "    }\n",
       "\n",
       "    .dataframe tbody tr th {\n",
       "        vertical-align: top;\n",
       "    }\n",
       "\n",
       "    .dataframe thead th {\n",
       "        text-align: right;\n",
       "    }\n",
       "</style>\n",
       "<table border=\"1\" class=\"dataframe\">\n",
       "  <thead>\n",
       "    <tr style=\"text-align: right;\">\n",
       "      <th></th>\n",
       "      <th>title</th>\n",
       "      <th>tid</th>\n",
       "    </tr>\n",
       "    <tr>\n",
       "      <th>rank</th>\n",
       "      <th></th>\n",
       "      <th></th>\n",
       "    </tr>\n",
       "  </thead>\n",
       "  <tbody>\n",
       "    <tr>\n",
       "      <th>1</th>\n",
       "      <td>Sleep Apnea - Beach Fossils</td>\n",
       "      <td>20476</td>\n",
       "    </tr>\n",
       "    <tr>\n",
       "      <th>2</th>\n",
       "      <td>Ode To Viceroy - Mac Demarco</td>\n",
       "      <td>27701</td>\n",
       "    </tr>\n",
       "    <tr>\n",
       "      <th>3</th>\n",
       "      <td>One More Love Song - Mac Demarco</td>\n",
       "      <td>7269</td>\n",
       "    </tr>\n",
       "    <tr>\n",
       "      <th>4</th>\n",
       "      <td>No Woman - Whitney</td>\n",
       "      <td>255</td>\n",
       "    </tr>\n",
       "    <tr>\n",
       "      <th>5</th>\n",
       "      <td>Baby (Bonus Track) - Ariel Pink</td>\n",
       "      <td>5878</td>\n",
       "    </tr>\n",
       "    <tr>\n",
       "      <th>6</th>\n",
       "      <td>Places - Shlohmo</td>\n",
       "      <td>23302</td>\n",
       "    </tr>\n",
       "    <tr>\n",
       "      <th>7</th>\n",
       "      <td>Teen Sex - infinite bisous</td>\n",
       "      <td>76382</td>\n",
       "    </tr>\n",
       "    <tr>\n",
       "      <th>8</th>\n",
       "      <td>For Emma - Bon Iver</td>\n",
       "      <td>6842</td>\n",
       "    </tr>\n",
       "    <tr>\n",
       "      <th>9</th>\n",
       "      <td>First Day Of My Life - Bright Eyes</td>\n",
       "      <td>393</td>\n",
       "    </tr>\n",
       "    <tr>\n",
       "      <th>10</th>\n",
       "      <td>Call Me Up - HOMESHAKE</td>\n",
       "      <td>29994</td>\n",
       "    </tr>\n",
       "    <tr>\n",
       "      <th>11</th>\n",
       "      <td>Still Beating - Mac Demarco</td>\n",
       "      <td>7267</td>\n",
       "    </tr>\n",
       "    <tr>\n",
       "      <th>12</th>\n",
       "      <td>Nothing Lasts - Bedroom</td>\n",
       "      <td>81792</td>\n",
       "    </tr>\n",
       "    <tr>\n",
       "      <th>13</th>\n",
       "      <td>17 - Youth Lagoon</td>\n",
       "      <td>2874</td>\n",
       "    </tr>\n",
       "    <tr>\n",
       "      <th>14</th>\n",
       "      <td>Time Moves Slow - BadBadNotGood</td>\n",
       "      <td>4694</td>\n",
       "    </tr>\n",
       "    <tr>\n",
       "      <th>15</th>\n",
       "      <td>Rivers And Roads - The Head and the Heart</td>\n",
       "      <td>1757</td>\n",
       "    </tr>\n",
       "    <tr>\n",
       "      <th>16</th>\n",
       "      <td>Eugene - Sufjan Stevens</td>\n",
       "      <td>10449</td>\n",
       "    </tr>\n",
       "    <tr>\n",
       "      <th>17</th>\n",
       "      <td>I Love You So - The Walters</td>\n",
       "      <td>18642</td>\n",
       "    </tr>\n",
       "    <tr>\n",
       "      <th>18</th>\n",
       "      <td>Moonlight On The River - Mac Demarco</td>\n",
       "      <td>8577</td>\n",
       "    </tr>\n",
       "    <tr>\n",
       "      <th>19</th>\n",
       "      <td>Stuck on the puzzle - Alex Turner</td>\n",
       "      <td>286</td>\n",
       "    </tr>\n",
       "    <tr>\n",
       "      <th>20</th>\n",
       "      <td>Don't Know Why - Norah Jones</td>\n",
       "      <td>383</td>\n",
       "    </tr>\n",
       "    <tr>\n",
       "      <th>21</th>\n",
       "      <td>363N63 - King Krule</td>\n",
       "      <td>1277</td>\n",
       "    </tr>\n",
       "    <tr>\n",
       "      <th>22</th>\n",
       "      <td>Transatlanticism - Death Cab for Cutie</td>\n",
       "      <td>8157</td>\n",
       "    </tr>\n",
       "    <tr>\n",
       "      <th>23</th>\n",
       "      <td>Watching Him Fade Away - Mac Demarco</td>\n",
       "      <td>8580</td>\n",
       "    </tr>\n",
       "    <tr>\n",
       "      <th>24</th>\n",
       "      <td>I Think Ur A Contra - Vampire Weekend</td>\n",
       "      <td>11644</td>\n",
       "    </tr>\n",
       "    <tr>\n",
       "      <th>25</th>\n",
       "      <td>The Suburbs - Mr Little Jeans</td>\n",
       "      <td>14615</td>\n",
       "    </tr>\n",
       "    <tr>\n",
       "      <th>26</th>\n",
       "      <td>Imagine - 2010 - Remaster - John Lennon</td>\n",
       "      <td>15430</td>\n",
       "    </tr>\n",
       "    <tr>\n",
       "      <th>27</th>\n",
       "      <td>Bluish - Animal Collective</td>\n",
       "      <td>16081</td>\n",
       "    </tr>\n",
       "    <tr>\n",
       "      <th>28</th>\n",
       "      <td>Beach Monster - STRFKR</td>\n",
       "      <td>22264</td>\n",
       "    </tr>\n",
       "    <tr>\n",
       "      <th>29</th>\n",
       "      <td>The Greatest - Cat Power</td>\n",
       "      <td>29288</td>\n",
       "    </tr>\n",
       "    <tr>\n",
       "      <th>30</th>\n",
       "      <td>In Your Eyes - BadBadNotGood</td>\n",
       "      <td>30914</td>\n",
       "    </tr>\n",
       "    <tr>\n",
       "      <th>31</th>\n",
       "      <td>Ceilings - Local Natives</td>\n",
       "      <td>31862</td>\n",
       "    </tr>\n",
       "    <tr>\n",
       "      <th>32</th>\n",
       "      <td>BUS RIDE - KAYTRANADA</td>\n",
       "      <td>33732</td>\n",
       "    </tr>\n",
       "    <tr>\n",
       "      <th>33</th>\n",
       "      <td>Still Together - Mac Demarco</td>\n",
       "      <td>37259</td>\n",
       "    </tr>\n",
       "    <tr>\n",
       "      <th>34</th>\n",
       "      <td>The Flight - Toro y Moi</td>\n",
       "      <td>37262</td>\n",
       "    </tr>\n",
       "    <tr>\n",
       "      <th>35</th>\n",
       "      <td>The Ice Is Getting Thinner - Death Cab for Cutie</td>\n",
       "      <td>43297</td>\n",
       "    </tr>\n",
       "    <tr>\n",
       "      <th>36</th>\n",
       "      <td>Worms - Youth Lagoon</td>\n",
       "      <td>45449</td>\n",
       "    </tr>\n",
       "    <tr>\n",
       "      <th>37</th>\n",
       "      <td>Organ Ronald Donkey Water - Mac Demarco</td>\n",
       "      <td>45749</td>\n",
       "    </tr>\n",
       "    <tr>\n",
       "      <th>38</th>\n",
       "      <td>The Time Has Come Again - The Last Shadow Puppets</td>\n",
       "      <td>49034</td>\n",
       "    </tr>\n",
       "    <tr>\n",
       "      <th>39</th>\n",
       "      <td>Raspberry Cane - Youth Lagoon</td>\n",
       "      <td>59127</td>\n",
       "    </tr>\n",
       "    <tr>\n",
       "      <th>40</th>\n",
       "      <td>Choking on Flowers - Fox Academy</td>\n",
       "      <td>60876</td>\n",
       "    </tr>\n",
       "    <tr>\n",
       "      <th>41</th>\n",
       "      <td>Never Again - Bahamas</td>\n",
       "      <td>62432</td>\n",
       "    </tr>\n",
       "    <tr>\n",
       "      <th>42</th>\n",
       "      <td>The Way I Feel Inside - The Zombies</td>\n",
       "      <td>65395</td>\n",
       "    </tr>\n",
       "    <tr>\n",
       "      <th>43</th>\n",
       "      <td>Sorry Bro - SALES</td>\n",
       "      <td>79028</td>\n",
       "    </tr>\n",
       "    <tr>\n",
       "      <th>44</th>\n",
       "      <td>Pool Party - Julia Jacklin</td>\n",
       "      <td>90243</td>\n",
       "    </tr>\n",
       "    <tr>\n",
       "      <th>45</th>\n",
       "      <td>We All Need Something - Bedroom</td>\n",
       "      <td>108439</td>\n",
       "    </tr>\n",
       "    <tr>\n",
       "      <th>46</th>\n",
       "      <td>Holy Dances - Beach House</td>\n",
       "      <td>116224</td>\n",
       "    </tr>\n",
       "    <tr>\n",
       "      <th>47</th>\n",
       "      <td>Flowers Bloom - High Highs</td>\n",
       "      <td>116260</td>\n",
       "    </tr>\n",
       "    <tr>\n",
       "      <th>48</th>\n",
       "      <td>10,000 Claps - Phantogram</td>\n",
       "      <td>134305</td>\n",
       "    </tr>\n",
       "    <tr>\n",
       "      <th>49</th>\n",
       "      <td>TV Volume - HOMESHAKE</td>\n",
       "      <td>151792</td>\n",
       "    </tr>\n",
       "    <tr>\n",
       "      <th>50</th>\n",
       "      <td>Brother (Live) - Mac Demarco</td>\n",
       "      <td>155494</td>\n",
       "    </tr>\n",
       "  </tbody>\n",
       "</table>\n",
       "</div>"
      ],
      "text/plain": [
       "                                                  title     tid\n",
       "rank                                                           \n",
       "1                           Sleep Apnea - Beach Fossils   20476\n",
       "2                          Ode To Viceroy - Mac Demarco   27701\n",
       "3                      One More Love Song - Mac Demarco    7269\n",
       "4                                    No Woman - Whitney     255\n",
       "5                       Baby (Bonus Track) - Ariel Pink    5878\n",
       "6                                      Places - Shlohmo   23302\n",
       "7                            Teen Sex - infinite bisous   76382\n",
       "8                                   For Emma - Bon Iver    6842\n",
       "9                    First Day Of My Life - Bright Eyes     393\n",
       "10                               Call Me Up - HOMESHAKE   29994\n",
       "11                          Still Beating - Mac Demarco    7267\n",
       "12                              Nothing Lasts - Bedroom   81792\n",
       "13                                    17 - Youth Lagoon    2874\n",
       "14                      Time Moves Slow - BadBadNotGood    4694\n",
       "15            Rivers And Roads - The Head and the Heart    1757\n",
       "16                              Eugene - Sufjan Stevens   10449\n",
       "17                          I Love You So - The Walters   18642\n",
       "18                 Moonlight On The River - Mac Demarco    8577\n",
       "19                    Stuck on the puzzle - Alex Turner     286\n",
       "20                         Don't Know Why - Norah Jones     383\n",
       "21                                  363N63 - King Krule    1277\n",
       "22               Transatlanticism - Death Cab for Cutie    8157\n",
       "23                 Watching Him Fade Away - Mac Demarco    8580\n",
       "24                I Think Ur A Contra - Vampire Weekend   11644\n",
       "25                        The Suburbs - Mr Little Jeans   14615\n",
       "26              Imagine - 2010 - Remaster - John Lennon   15430\n",
       "27                           Bluish - Animal Collective   16081\n",
       "28                               Beach Monster - STRFKR   22264\n",
       "29                             The Greatest - Cat Power   29288\n",
       "30                         In Your Eyes - BadBadNotGood   30914\n",
       "31                             Ceilings - Local Natives   31862\n",
       "32                                BUS RIDE - KAYTRANADA   33732\n",
       "33                         Still Together - Mac Demarco   37259\n",
       "34                              The Flight - Toro y Moi   37262\n",
       "35     The Ice Is Getting Thinner - Death Cab for Cutie   43297\n",
       "36                                 Worms - Youth Lagoon   45449\n",
       "37              Organ Ronald Donkey Water - Mac Demarco   45749\n",
       "38    The Time Has Come Again - The Last Shadow Puppets   49034\n",
       "39                        Raspberry Cane - Youth Lagoon   59127\n",
       "40                     Choking on Flowers - Fox Academy   60876\n",
       "41                                Never Again - Bahamas   62432\n",
       "42                  The Way I Feel Inside - The Zombies   65395\n",
       "43                                    Sorry Bro - SALES   79028\n",
       "44                           Pool Party - Julia Jacklin   90243\n",
       "45                      We All Need Something - Bedroom  108439\n",
       "46                            Holy Dances - Beach House  116224\n",
       "47                           Flowers Bloom - High Highs  116260\n",
       "48                            10,000 Claps - Phantogram  134305\n",
       "49                                TV Volume - HOMESHAKE  151792\n",
       "50                         Brother (Live) - Mac Demarco  155494"
      ]
     },
     "execution_count": 12,
     "metadata": {},
     "output_type": "execute_result"
    }
   ],
   "source": [
    "df_knn_recs"
   ]
  },
  {
   "cell_type": "markdown",
   "metadata": {},
   "source": [
    "### Train and Evaluate kNN Model"
   ]
  },
  {
   "cell_type": "code",
   "execution_count": 13,
   "metadata": {},
   "outputs": [],
   "source": [
    "# Define input variables\n",
    "\n",
    "name_kNN = 'knn'\n",
    "metric = 'cosine'\n",
    "sp_train = ndb.train_sparse_matrix"
   ]
  },
  {
   "cell_type": "code",
   "execution_count": 14,
   "metadata": {},
   "outputs": [],
   "source": [
    "# Calculate Predictions for Base Model at Topk\n",
    "\n",
    "list_of_nneighbors  = [10, 25, 50]\n",
    "list_of_topks = [5, 10, 25, 50, 100]\n",
    "\n",
    "trainPlaylists = ndb.train.groupby('pid')['tid'].apply(list).reset_index().sort_index()\n",
    "train_ids = trainPlaylists.tid.values\n",
    "\n",
    "testPlaylists = ndb.test.groupby('pid')['tid'].apply(list).reset_index().sort_index()\n",
    "test_ids = testPlaylists.tid.values"
   ]
  },
  {
   "cell_type": "code",
   "execution_count": 15,
   "metadata": {},
   "outputs": [
    {
     "name": "stderr",
     "output_type": "stream",
     "text": [
      "\r",
      "0it [00:00, ?it/s]"
     ]
    },
    {
     "name": "stdout",
     "output_type": "stream",
     "text": [
      "Predictions for: 10 neighbors\n",
      "recall@5=0.174\n",
      "recall@10=0.145\n",
      "recall@25=0.109\n",
      "recall@50=0.123\n",
      "recall@100=0.183\n",
      "map@5=0.124\n",
      "map@10=0.084\n",
      "map@25=0.049\n",
      "map@50=0.043\n"
     ]
    },
    {
     "name": "stderr",
     "output_type": "stream",
     "text": [
      "\r",
      "1it [13:03, 783.84s/it]"
     ]
    },
    {
     "name": "stdout",
     "output_type": "stream",
     "text": [
      "map@100=0.048\n",
      "Predictions for: 25 neighbors\n",
      "recall@5=0.188\n",
      "recall@10=0.155\n",
      "recall@25=0.119\n",
      "recall@50=0.131\n",
      "recall@100=0.193\n",
      "map@5=0.131\n",
      "map@10=0.089\n",
      "map@25=0.052\n",
      "map@50=0.046\n"
     ]
    },
    {
     "name": "stderr",
     "output_type": "stream",
     "text": [
      "\r",
      "2it [26:22, 792.75s/it]"
     ]
    },
    {
     "name": "stdout",
     "output_type": "stream",
     "text": [
      "map@100=0.051\n",
      "Predictions for: 50 neighbors\n",
      "recall@5=0.187\n",
      "recall@10=0.155\n",
      "recall@25=0.119\n",
      "recall@50=0.129\n",
      "recall@100=0.190\n",
      "map@5=0.129\n",
      "map@10=0.087\n",
      "map@25=0.051\n",
      "map@50=0.045\n"
     ]
    },
    {
     "name": "stderr",
     "output_type": "stream",
     "text": [
      "3it [39:37, 792.53s/it]"
     ]
    },
    {
     "name": "stdout",
     "output_type": "stream",
     "text": [
      "map@100=0.050\n",
      "Calculate kNN model results for subset_mpdNDB dataset for 1000 Playlists 2377.6060461\n"
     ]
    },
    {
     "name": "stderr",
     "output_type": "stream",
     "text": [
      "\n"
     ]
    }
   ],
   "source": [
    "start = timeit.default_timer()\n",
    "\n",
    "for n, nneighbors in tqdm(enumerate(list_of_nneighbors)):\n",
    "    \n",
    "    kNN_model = model_knn.nneighbors_model(name_kNN, nneighbors, metric, sp_train, True)\n",
    "    print(f'Predictions for: {str(nneighbors)} neighbors')\n",
    "    knn_predictions = []\n",
    "    for x, p in enumerate(trainPlaylists.pid):\n",
    "        if p==1000:\n",
    "            break\n",
    "\n",
    "        knn_predictions.append(kNN_model.predict(p, np.max(list_of_topks), nneighbors))\n",
    "        \n",
    "    m_knn= evaluate_model.Metrics(train_ids[:1000], test_ids[:1000], knn_predictions[:1000])\n",
    "    m_knn_results_recall = m_knn.recall_at_n(list_of_topks, True)\n",
    "    m_knn_results_map = m_knn.map_at_n(list_of_topks, True)\n",
    "\n",
    "    with open('./results/model_scores.csv', 'a') as f:\n",
    "        writer = csv.writer(f)\n",
    "        for i, topk in enumerate(list_of_topks):\n",
    "            writer.writerow(\n",
    "                [kNN_model.model_name, kNN_model.metric, kNN_model.n_neighbors, str(topk) , \n",
    "                 str(\"%.3f\" %(m_knn_results_recall[i])), str(\"%.3f\" %(m_knn_results_map[i]))]) \n",
    "\n",
    "stop = timeit.default_timer()\n",
    "print(f'Calculate kNN model results for subset_mpdNDB dataset for {len(train_ids[:1000])} Playlists', stop - start)    "
   ]
  },
  {
   "cell_type": "markdown",
   "metadata": {},
   "source": [
    "### Compare Metrics of Popularity and KNN Model"
   ]
  },
  {
   "cell_type": "code",
   "execution_count": 16,
   "metadata": {},
   "outputs": [],
   "source": [
    "df = pd.read_csv('./results/model_scores.csv')"
   ]
  },
  {
   "cell_type": "code",
   "execution_count": 17,
   "metadata": {},
   "outputs": [
    {
     "data": {
      "text/html": [
       "<div>\n",
       "<style scoped>\n",
       "    .dataframe tbody tr th:only-of-type {\n",
       "        vertical-align: middle;\n",
       "    }\n",
       "\n",
       "    .dataframe tbody tr th {\n",
       "        vertical-align: top;\n",
       "    }\n",
       "\n",
       "    .dataframe thead th {\n",
       "        text-align: right;\n",
       "    }\n",
       "</style>\n",
       "<table border=\"1\" class=\"dataframe\">\n",
       "  <thead>\n",
       "    <tr style=\"text-align: right;\">\n",
       "      <th></th>\n",
       "      <th>model_type</th>\n",
       "      <th>similarity_option</th>\n",
       "      <th>k</th>\n",
       "      <th>topk</th>\n",
       "      <th>recall</th>\n",
       "      <th>map</th>\n",
       "    </tr>\n",
       "  </thead>\n",
       "  <tbody>\n",
       "    <tr>\n",
       "      <th>0</th>\n",
       "      <td>popularity</td>\n",
       "      <td>-</td>\n",
       "      <td>0</td>\n",
       "      <td>5</td>\n",
       "      <td>0.025</td>\n",
       "      <td>0.015</td>\n",
       "    </tr>\n",
       "    <tr>\n",
       "      <th>1</th>\n",
       "      <td>popularity</td>\n",
       "      <td>-</td>\n",
       "      <td>0</td>\n",
       "      <td>10</td>\n",
       "      <td>0.023</td>\n",
       "      <td>0.010</td>\n",
       "    </tr>\n",
       "    <tr>\n",
       "      <th>2</th>\n",
       "      <td>popularity</td>\n",
       "      <td>-</td>\n",
       "      <td>0</td>\n",
       "      <td>25</td>\n",
       "      <td>0.020</td>\n",
       "      <td>0.005</td>\n",
       "    </tr>\n",
       "    <tr>\n",
       "      <th>3</th>\n",
       "      <td>popularity</td>\n",
       "      <td>-</td>\n",
       "      <td>0</td>\n",
       "      <td>50</td>\n",
       "      <td>0.027</td>\n",
       "      <td>0.005</td>\n",
       "    </tr>\n",
       "    <tr>\n",
       "      <th>4</th>\n",
       "      <td>popularity</td>\n",
       "      <td>-</td>\n",
       "      <td>0</td>\n",
       "      <td>100</td>\n",
       "      <td>0.027</td>\n",
       "      <td>0.005</td>\n",
       "    </tr>\n",
       "    <tr>\n",
       "      <th>5</th>\n",
       "      <td>knn</td>\n",
       "      <td>cosine</td>\n",
       "      <td>10</td>\n",
       "      <td>5</td>\n",
       "      <td>0.174</td>\n",
       "      <td>0.124</td>\n",
       "    </tr>\n",
       "    <tr>\n",
       "      <th>6</th>\n",
       "      <td>knn</td>\n",
       "      <td>cosine</td>\n",
       "      <td>10</td>\n",
       "      <td>10</td>\n",
       "      <td>0.145</td>\n",
       "      <td>0.084</td>\n",
       "    </tr>\n",
       "    <tr>\n",
       "      <th>7</th>\n",
       "      <td>knn</td>\n",
       "      <td>cosine</td>\n",
       "      <td>10</td>\n",
       "      <td>25</td>\n",
       "      <td>0.109</td>\n",
       "      <td>0.049</td>\n",
       "    </tr>\n",
       "    <tr>\n",
       "      <th>8</th>\n",
       "      <td>knn</td>\n",
       "      <td>cosine</td>\n",
       "      <td>10</td>\n",
       "      <td>50</td>\n",
       "      <td>0.123</td>\n",
       "      <td>0.043</td>\n",
       "    </tr>\n",
       "    <tr>\n",
       "      <th>9</th>\n",
       "      <td>knn</td>\n",
       "      <td>cosine</td>\n",
       "      <td>10</td>\n",
       "      <td>100</td>\n",
       "      <td>0.183</td>\n",
       "      <td>0.048</td>\n",
       "    </tr>\n",
       "    <tr>\n",
       "      <th>10</th>\n",
       "      <td>knn</td>\n",
       "      <td>cosine</td>\n",
       "      <td>25</td>\n",
       "      <td>5</td>\n",
       "      <td>0.188</td>\n",
       "      <td>0.131</td>\n",
       "    </tr>\n",
       "    <tr>\n",
       "      <th>11</th>\n",
       "      <td>knn</td>\n",
       "      <td>cosine</td>\n",
       "      <td>25</td>\n",
       "      <td>10</td>\n",
       "      <td>0.155</td>\n",
       "      <td>0.089</td>\n",
       "    </tr>\n",
       "    <tr>\n",
       "      <th>12</th>\n",
       "      <td>knn</td>\n",
       "      <td>cosine</td>\n",
       "      <td>25</td>\n",
       "      <td>25</td>\n",
       "      <td>0.119</td>\n",
       "      <td>0.052</td>\n",
       "    </tr>\n",
       "    <tr>\n",
       "      <th>13</th>\n",
       "      <td>knn</td>\n",
       "      <td>cosine</td>\n",
       "      <td>25</td>\n",
       "      <td>50</td>\n",
       "      <td>0.131</td>\n",
       "      <td>0.046</td>\n",
       "    </tr>\n",
       "    <tr>\n",
       "      <th>14</th>\n",
       "      <td>knn</td>\n",
       "      <td>cosine</td>\n",
       "      <td>25</td>\n",
       "      <td>100</td>\n",
       "      <td>0.193</td>\n",
       "      <td>0.051</td>\n",
       "    </tr>\n",
       "    <tr>\n",
       "      <th>15</th>\n",
       "      <td>knn</td>\n",
       "      <td>cosine</td>\n",
       "      <td>50</td>\n",
       "      <td>5</td>\n",
       "      <td>0.187</td>\n",
       "      <td>0.129</td>\n",
       "    </tr>\n",
       "    <tr>\n",
       "      <th>16</th>\n",
       "      <td>knn</td>\n",
       "      <td>cosine</td>\n",
       "      <td>50</td>\n",
       "      <td>10</td>\n",
       "      <td>0.155</td>\n",
       "      <td>0.087</td>\n",
       "    </tr>\n",
       "    <tr>\n",
       "      <th>17</th>\n",
       "      <td>knn</td>\n",
       "      <td>cosine</td>\n",
       "      <td>50</td>\n",
       "      <td>25</td>\n",
       "      <td>0.119</td>\n",
       "      <td>0.051</td>\n",
       "    </tr>\n",
       "    <tr>\n",
       "      <th>18</th>\n",
       "      <td>knn</td>\n",
       "      <td>cosine</td>\n",
       "      <td>50</td>\n",
       "      <td>50</td>\n",
       "      <td>0.129</td>\n",
       "      <td>0.045</td>\n",
       "    </tr>\n",
       "    <tr>\n",
       "      <th>19</th>\n",
       "      <td>knn</td>\n",
       "      <td>cosine</td>\n",
       "      <td>50</td>\n",
       "      <td>100</td>\n",
       "      <td>0.190</td>\n",
       "      <td>0.050</td>\n",
       "    </tr>\n",
       "  </tbody>\n",
       "</table>\n",
       "</div>"
      ],
      "text/plain": [
       "    model_type similarity_option   k  topk  recall    map\n",
       "0   popularity                 -   0     5   0.025  0.015\n",
       "1   popularity                 -   0    10   0.023  0.010\n",
       "2   popularity                 -   0    25   0.020  0.005\n",
       "3   popularity                 -   0    50   0.027  0.005\n",
       "4   popularity                 -   0   100   0.027  0.005\n",
       "5          knn            cosine  10     5   0.174  0.124\n",
       "6          knn            cosine  10    10   0.145  0.084\n",
       "7          knn            cosine  10    25   0.109  0.049\n",
       "8          knn            cosine  10    50   0.123  0.043\n",
       "9          knn            cosine  10   100   0.183  0.048\n",
       "10         knn            cosine  25     5   0.188  0.131\n",
       "11         knn            cosine  25    10   0.155  0.089\n",
       "12         knn            cosine  25    25   0.119  0.052\n",
       "13         knn            cosine  25    50   0.131  0.046\n",
       "14         knn            cosine  25   100   0.193  0.051\n",
       "15         knn            cosine  50     5   0.187  0.129\n",
       "16         knn            cosine  50    10   0.155  0.087\n",
       "17         knn            cosine  50    25   0.119  0.051\n",
       "18         knn            cosine  50    50   0.129  0.045\n",
       "19         knn            cosine  50   100   0.190  0.050"
      ]
     },
     "execution_count": 17,
     "metadata": {},
     "output_type": "execute_result"
    }
   ],
   "source": [
    "df"
   ]
  },
  {
   "cell_type": "code",
   "execution_count": 18,
   "metadata": {},
   "outputs": [],
   "source": [
    "models_recall = df.groupby(['model_type', 'similarity_option', 'k'])['recall'].apply(list)"
   ]
  },
  {
   "cell_type": "code",
   "execution_count": 19,
   "metadata": {},
   "outputs": [
    {
     "data": {
      "text/plain": [
       "model_type  similarity_option  k \n",
       "knn         cosine             10    [0.174, 0.145, 0.109, 0.123, 0.183]\n",
       "                               25    [0.188, 0.155, 0.119, 0.131, 0.193]\n",
       "                               50     [0.187, 0.155, 0.119, 0.129, 0.19]\n",
       "popularity  -                  0      [0.025, 0.023, 0.02, 0.027, 0.027]\n",
       "Name: recall, dtype: object"
      ]
     },
     "execution_count": 19,
     "metadata": {},
     "output_type": "execute_result"
    }
   ],
   "source": [
    "models_recall"
   ]
  },
  {
   "cell_type": "code",
   "execution_count": 20,
   "metadata": {},
   "outputs": [],
   "source": [
    "models_map = df.groupby(['model_type', 'similarity_option', 'k'])['map'].apply(list)"
   ]
  },
  {
   "cell_type": "code",
   "execution_count": 21,
   "metadata": {},
   "outputs": [
    {
     "data": {
      "text/plain": [
       "model_type  similarity_option  k \n",
       "knn         cosine             10    [0.124, 0.084, 0.049, 0.043, 0.048]\n",
       "                               25    [0.131, 0.089, 0.052, 0.046, 0.051]\n",
       "                               50     [0.129, 0.087, 0.051, 0.045, 0.05]\n",
       "popularity  -                  0      [0.015, 0.01, 0.005, 0.005, 0.005]\n",
       "Name: map, dtype: object"
      ]
     },
     "execution_count": 21,
     "metadata": {},
     "output_type": "execute_result"
    }
   ],
   "source": [
    "models_map"
   ]
  },
  {
   "cell_type": "code",
   "execution_count": 22,
   "metadata": {},
   "outputs": [
    {
     "data": {
      "text/plain": [
       "<matplotlib.legend.Legend at 0x183b9d03130>"
      ]
     },
     "execution_count": 22,
     "metadata": {},
     "output_type": "execute_result"
    },
    {
     "data": {
      "image/png": "[encoded data removed]",
      "text/plain": [
       "<Figure size 576x576 with 1 Axes>"
      ]
     },
     "metadata": {
      "needs_background": "light"
     },
     "output_type": "display_data"
    }
   ],
   "source": [
    "import matplotlib.pyplot as plt\n",
    "import matplotlib.patches as mpatches\n",
    "import itertools\n",
    "from itertools import cycle\n",
    "\n",
    "fig1 = plt.figure(figsize=(8,8))\n",
    "plt.xlim([0,0.200])\n",
    "plt.ylim([0,0.200])\n",
    "\n",
    "plt.xlabel('Recall', fontsize=12)\n",
    "plt.ylabel('Map', fontsize=12)\n",
    "plt.title('Map-Recall curve - subset_mpdNDB', fontsize=14)\n",
    "marker = itertools.cycle(('*', 'd', 'v', 'o')) \n",
    "slines = [\"--\",\"-\",\":\",\"-.\"]\n",
    "linecycler = cycle(slines)\n",
    "\n",
    "lines = []\n",
    "for i, recall in enumerate(models_recall):\n",
    "    lines += plt.plot(recall, models_map[i], marker=next(marker), label=\"{}\".format(models_recall.index[i]),\n",
    "                      linewidth=2, markersize=8, linestyle=next(linecycler))\n",
    "    \n",
    "labels = [l.get_label() for l in lines]\n",
    "plt.legend(lines, labels)   "
   ]
  },
  {
   "cell_type": "code",
   "execution_count": 23,
   "metadata": {},
   "outputs": [],
   "source": [
    "fig1.savefig('./visualization/Map-Recall curve.png')"
   ]
  },
  {
   "cell_type": "code",
   "execution_count": 24,
   "metadata": {},
   "outputs": [
    {
     "data": {
      "text/plain": [
       "<matplotlib.legend.Legend at 0x183ba1a3850>"
      ]
     },
     "execution_count": 24,
     "metadata": {},
     "output_type": "execute_result"
    },
    {
     "data": {
      "image/png": "[encoded data removed]",
      "text/plain": [
       "<Figure size 864x504 with 2 Axes>"
      ]
     },
     "metadata": {
      "needs_background": "light"
     },
     "output_type": "display_data"
    }
   ],
   "source": [
    "\n",
    "fig2, (ax1, ax2) = plt.subplots(1, 2, figsize=(12,7))\n",
    "fig2.tight_layout(pad=3.5)\n",
    "fig2.suptitle('Recall at K and Map at k - subset_mpdNDB', fontsize=14)\n",
    "\n",
    "plt.xlim([0,110])\n",
    "\n",
    "ax1.set_ylim([0,.5])\n",
    "ax1.set_xlabel('topk', fontsize=12)\n",
    "ax1.set_ylabel('Recall', fontsize=12)\n",
    "\n",
    "marker = itertools.cycle(('*', 'd', 'v', 'o')) \n",
    "slines = [\"--\",\"-\",\":\",\"-.\"]\n",
    "linecycler = cycle(slines)\n",
    "\n",
    "lines1 = []\n",
    "for i, recall in enumerate(models_recall):\n",
    "    lines1 += ax1.plot(list_of_topks, recall, marker=next(marker), label=\"{}\".format(models_recall.index[i]),\n",
    "                      linewidth=2, markersize=8, linestyle=next(linecycler))\n",
    "\n",
    "ax2.set_ylim([0,.5])\n",
    "ax2.set_xlabel('topk', fontsize=12)\n",
    "ax2.set_ylabel('Map', fontsize=12)    \n",
    "lines2 = []\n",
    "for i, map in enumerate(models_map):\n",
    "    lines2 += ax2.plot(list_of_topks, map, marker=next(marker), label=\"{}\".format(models_map.index[i]),\n",
    "                      linewidth=2, markersize=8, linestyle=next(linecycler))\n",
    "    \n",
    "labels = [l.get_label() for l in lines1]\n",
    "fig2.legend(lines1, labels, loc='lower center', ncol=len(labels),borderaxespad=0, frameon=False) "
   ]
  },
  {
   "cell_type": "code",
   "execution_count": 25,
   "metadata": {},
   "outputs": [],
   "source": [
    "fig2.savefig('./visualization/Recall at K and Map at k - MPD_NDB.png')"
   ]
  },
  {
   "cell_type": "code",
   "execution_count": null,
   "metadata": {},
   "outputs": [],
   "source": []
  }
 ],
 "metadata": {
  "kernelspec": {
   "display_name": "Python 3",
   "language": "python",
   "name": "python3"
  },
  "language_info": {
   "codemirror_mode": {
    "name": "ipython",
    "version": 3
   },
   "file_extension": ".py",
   "mimetype": "text/x-python",
   "name": "python",
   "nbconvert_exporter": "python",
   "pygments_lexer": "ipython3",
   "version": "3.8.5"
  }
 },
 "nbformat": 4,
 "nbformat_minor": 4
}
